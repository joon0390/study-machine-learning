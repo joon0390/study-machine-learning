{
  "nbformat": 4,
  "nbformat_minor": 0,
  "metadata": {
    "colab": {
      "provenance": [],
      "authorship_tag": "ABX9TyP+zlE82Nh57BIeSGsWgkI9",
      "include_colab_link": true
    },
    "kernelspec": {
      "name": "python3",
      "display_name": "Python 3"
    },
    "language_info": {
      "name": "python"
    }
  },
  "cells": [
    {
      "cell_type": "markdown",
      "metadata": {
        "id": "view-in-github",
        "colab_type": "text"
      },
      "source": [
        "<a href=\"https://colab.research.google.com/github/kimgoinghard/study-machine-learning/blob/main/study_torch_1.ipynb\" target=\"_parent\"><img src=\"https://colab.research.google.com/assets/colab-badge.svg\" alt=\"Open In Colab\"/></a>"
      ]
    },
    {
      "cell_type": "code",
      "execution_count": 12,
      "metadata": {
        "id": "edruZoAm5nUT"
      },
      "outputs": [],
      "source": [
        "import numpy as np\n",
        "import torch"
      ]
    },
    {
      "cell_type": "code",
      "source": [
        "t = np.array([[ [0,1,2],\n",
        "                [3,4,5]],\n",
        "                [[6,7,8],\n",
        "                 [9,10,11]]\n",
        "])"
      ],
      "metadata": {
        "id": "L8xvz96s5wDf"
      },
      "execution_count": 2,
      "outputs": []
    },
    {
      "cell_type": "code",
      "source": [
        "t.ndim\n",
        "t.shape\n",
        "t.size"
      ],
      "metadata": {
        "colab": {
          "base_uri": "https://localhost:8080/"
        },
        "id": "rNywSoqX6N7o",
        "outputId": "457c5475-b791-4105-c717-f741904d4eca"
      },
      "execution_count": 10,
      "outputs": [
        {
          "output_type": "execute_result",
          "data": {
            "text/plain": [
              "12"
            ]
          },
          "metadata": {},
          "execution_count": 10
        }
      ]
    },
    {
      "cell_type": "code",
      "source": [
        "ft = torch.FloatTensor(t) # numpy array를 tensor로 변경"
      ],
      "metadata": {
        "id": "4DV2u1on6cDF"
      },
      "execution_count": 13,
      "outputs": []
    },
    {
      "cell_type": "code",
      "source": [
        "ft.shape #2x2x3 "
      ],
      "metadata": {
        "colab": {
          "base_uri": "https://localhost:8080/"
        },
        "id": "QmW2Xxy66i_z",
        "outputId": "e43400fb-d632-4f0b-d418-2849e7a36e9e"
      },
      "execution_count": 14,
      "outputs": [
        {
          "output_type": "execute_result",
          "data": {
            "text/plain": [
              "torch.Size([2, 2, 3])"
            ]
          },
          "metadata": {},
          "execution_count": 14
        }
      ]
    },
    {
      "cell_type": "markdown",
      "source": [
        "##View\n",
        "- 원소의 수를 유지하며 텐서의 크기를 변경"
      ],
      "metadata": {
        "id": "TKPA0t6R9AzR"
      }
    },
    {
      "cell_type": "code",
      "source": [
        "print(ft.view([-1,3])) #ft tensor를 (?, 3)의 크기로 변경.  -1은 파이토치에 맡기겠다는 의미. "
      ],
      "metadata": {
        "colab": {
          "base_uri": "https://localhost:8080/"
        },
        "id": "FyqomABv6r1r",
        "outputId": "c847d4e5-06b7-4d07-ab1c-0c925d61a440"
      },
      "execution_count": 15,
      "outputs": [
        {
          "output_type": "stream",
          "name": "stdout",
          "text": [
            "tensor([[ 0.,  1.,  2.],\n",
            "        [ 3.,  4.,  5.],\n",
            "        [ 6.,  7.,  8.],\n",
            "        [ 9., 10., 11.]])\n"
          ]
        }
      ]
    },
    {
      "cell_type": "code",
      "source": [
        "print(ft.view([-1,3]).shape) #4x3의 크기를 가지게 됨."
      ],
      "metadata": {
        "colab": {
          "base_uri": "https://localhost:8080/"
        },
        "id": "8Ds772FA7EeE",
        "outputId": "d8208937-c6b0-4972-dab3-c082f4c12a40"
      },
      "execution_count": 20,
      "outputs": [
        {
          "output_type": "stream",
          "name": "stdout",
          "text": [
            "torch.Size([4, 3])\n"
          ]
        }
      ]
    },
    {
      "cell_type": "code",
      "source": [
        "print(ft.view([-1,1,3])) #(?,1,3)의 크기로 만들어 줌.\n",
        "print(ft.view([-1,1,3]).shape) # 4x1x3"
      ],
      "metadata": {
        "colab": {
          "base_uri": "https://localhost:8080/"
        },
        "id": "euKut0nK7h7J",
        "outputId": "f90f3731-1b77-4d16-9230-9cbda721c3b3"
      },
      "execution_count": 22,
      "outputs": [
        {
          "output_type": "stream",
          "name": "stdout",
          "text": [
            "tensor([[[ 0.,  1.,  2.]],\n",
            "\n",
            "        [[ 3.,  4.,  5.]],\n",
            "\n",
            "        [[ 6.,  7.,  8.]],\n",
            "\n",
            "        [[ 9., 10., 11.]]])\n",
            "torch.Size([4, 1, 3])\n"
          ]
        }
      ]
    },
    {
      "cell_type": "markdown",
      "source": [
        "##Squeeze\n",
        "- 1인 차원을 제거"
      ],
      "metadata": {
        "id": "HBm80iVF9azQ"
      }
    },
    {
      "cell_type": "code",
      "source": [
        " ft = torch.FloatTensor([[0], [1], [2]])\n",
        " print(ft)\n",
        " print(ft.shape)"
      ],
      "metadata": {
        "colab": {
          "base_uri": "https://localhost:8080/"
        },
        "id": "44t9kQTk8D94",
        "outputId": "c2ac842c-6f7c-41e1-e606-64c40f5f07fc"
      },
      "execution_count": 25,
      "outputs": [
        {
          "output_type": "stream",
          "name": "stdout",
          "text": [
            "tensor([[0.],\n",
            "        [1.],\n",
            "        [2.]])\n",
            "torch.Size([3, 1])\n"
          ]
        }
      ]
    },
    {
      "cell_type": "code",
      "source": [
        "print(ft.squeeze()) #(3,1) 에서 (3,)으로 바뀜.\n",
        "print(ft.squeeze().shape) "
      ],
      "metadata": {
        "colab": {
          "base_uri": "https://localhost:8080/"
        },
        "id": "JhYzs2iZAEKo",
        "outputId": "6b04cb03-9780-41f1-bc2a-004244734670"
      },
      "execution_count": 29,
      "outputs": [
        {
          "output_type": "stream",
          "name": "stdout",
          "text": [
            "tensor([0., 1., 2.])\n",
            "torch.Size([3])\n"
          ]
        }
      ]
    },
    {
      "cell_type": "markdown",
      "source": [
        "##Unsqueeze\n",
        "-  특정 위치에 1인 차원 추가\n"
      ],
      "metadata": {
        "id": "5RNWRrgUAZNP"
      }
    },
    {
      "cell_type": "code",
      "source": [
        "ft = torch.FloatTensor([0,1,2])\n",
        "print(ft.shape)"
      ],
      "metadata": {
        "colab": {
          "base_uri": "https://localhost:8080/"
        },
        "id": "LRR2bVH4AXkR",
        "outputId": "6943e978-57e3-4aae-83c3-1d3fd57f1704"
      },
      "execution_count": 31,
      "outputs": [
        {
          "output_type": "stream",
          "name": "stdout",
          "text": [
            "torch.Size([3])\n"
          ]
        }
      ]
    },
    {
      "cell_type": "code",
      "source": [
        "print(ft.unsqueeze(0)) #첫번째 차원에 1인 차원이 추가됨.\n",
        "print(ft.unsqueeze(0).shape) # 크기가 3인 벡터가 (1,3)의 2차원 텐서로 변경됨."
      ],
      "metadata": {
        "colab": {
          "base_uri": "https://localhost:8080/"
        },
        "id": "p0c-rztxAq99",
        "outputId": "cdd99944-491f-4cc0-e0d4-230ffdddcb19"
      },
      "execution_count": 33,
      "outputs": [
        {
          "output_type": "stream",
          "name": "stdout",
          "text": [
            "tensor([[0., 1., 2.]])\n",
            "torch.Size([1, 3])\n"
          ]
        }
      ]
    },
    {
      "cell_type": "code",
      "source": [
        "print(ft.unsqueeze(1)) #두번째 차원에 1인 차원 추가\n",
        "print(ft.unsqueeze(1).shape)"
      ],
      "metadata": {
        "colab": {
          "base_uri": "https://localhost:8080/"
        },
        "id": "p85xVmLYA1vX",
        "outputId": "6cdee708-ec34-4988-d78f-2aa6568ea233"
      },
      "execution_count": 35,
      "outputs": [
        {
          "output_type": "stream",
          "name": "stdout",
          "text": [
            "tensor([[0.],\n",
            "        [1.],\n",
            "        [2.]])\n",
            "torch.Size([3, 1])\n"
          ]
        }
      ]
    },
    {
      "cell_type": "code",
      "source": [
        "print(ft.unsqueeze(-1)) #-1은 마지막 인덱스를 의미하므로 (3,) 였던 벡터에 1인 차원이 추가됨.\n",
        "print(ft.unsqueeze(-1).shape) #(3,1)로 바뀜.."
      ],
      "metadata": {
        "colab": {
          "base_uri": "https://localhost:8080/"
        },
        "id": "Vko6KQbeBX9U",
        "outputId": "cb289205-5462-470a-da64-655037129037"
      },
      "execution_count": 37,
      "outputs": [
        {
          "output_type": "stream",
          "name": "stdout",
          "text": [
            "tensor([[0.],\n",
            "        [1.],\n",
            "        [2.]])\n",
            "torch.Size([3, 1])\n"
          ]
        }
      ]
    },
    {
      "cell_type": "markdown",
      "source": [
        "view(), squeeze(), unsqueeze() 는 공통적으로 원소의 수를 그대로 유지하며 텐서의 모양과 차원을 변경한다."
      ],
      "metadata": {
        "id": "hwcSBbUyBwX8"
      }
    },
    {
      "cell_type": "markdown",
      "source": [
        "##Type Casting"
      ],
      "metadata": {
        "id": "hHjl2OYOB9Xi"
      }
    },
    {
      "cell_type": "code",
      "source": [
        "lt = torch.LongTensor([1,2,3,4]) #long 타입의 텐서\n",
        "print(lt) "
      ],
      "metadata": {
        "colab": {
          "base_uri": "https://localhost:8080/"
        },
        "id": "9n7q57X4BuSI",
        "outputId": "18b4e6de-921f-4854-c510-298d40f1e1fc"
      },
      "execution_count": 40,
      "outputs": [
        {
          "output_type": "stream",
          "name": "stdout",
          "text": [
            "tensor([1, 2, 3, 4])\n"
          ]
        }
      ]
    },
    {
      "cell_type": "code",
      "source": [
        "#long -> float\n",
        "print(lt.float()) "
      ],
      "metadata": {
        "colab": {
          "base_uri": "https://localhost:8080/"
        },
        "id": "rqjO5ug4CkKR",
        "outputId": "099d3530-c6aa-4afe-b088-1783fd387606"
      },
      "execution_count": 42,
      "outputs": [
        {
          "output_type": "stream",
          "name": "stdout",
          "text": [
            "tensor([1., 2., 3., 4.])\n"
          ]
        }
      ]
    },
    {
      "cell_type": "code",
      "source": [
        "bt = torch.ByteTensor([True, False, False, True])\n",
        "print(bt)"
      ],
      "metadata": {
        "colab": {
          "base_uri": "https://localhost:8080/"
        },
        "id": "I3WizJO8CqYn",
        "outputId": "8bffbeed-7355-4517-ab92-197b0915c79c"
      },
      "execution_count": 44,
      "outputs": [
        {
          "output_type": "stream",
          "name": "stdout",
          "text": [
            "tensor([1, 0, 0, 1], dtype=torch.uint8)\n"
          ]
        }
      ]
    },
    {
      "cell_type": "code",
      "source": [
        "#byte -> long, float\n",
        "print(bt.long())\n",
        "print(bt.float())"
      ],
      "metadata": {
        "colab": {
          "base_uri": "https://localhost:8080/"
        },
        "id": "Xc2wZOyLCq31",
        "outputId": "69934e8e-1558-4914-c927-fe9e1abf47fc"
      },
      "execution_count": 46,
      "outputs": [
        {
          "output_type": "stream",
          "name": "stdout",
          "text": [
            "tensor([1, 0, 0, 1])\n",
            "tensor([1., 0., 0., 1.])\n"
          ]
        }
      ]
    },
    {
      "cell_type": "markdown",
      "source": [
        "#연결하기 : Concatenate(Cat)\n"
      ],
      "metadata": {
        "id": "9y515XrcDynK"
      }
    },
    {
      "cell_type": "code",
      "source": [
        "x = torch.FloatTensor([[1, 2], [3, 4]])\n",
        "y = torch.FloatTensor([[5, 6], [7, 8]])"
      ],
      "metadata": {
        "id": "qz8hCC9PC89a"
      },
      "execution_count": 47,
      "outputs": []
    },
    {
      "cell_type": "code",
      "source": [
        "print(torch.cat([x,y],dim = 0)) #첫번째 차원으로 연결하기, 즉 행으로 이어붙이기\n",
        "print(torch.cat([x,y],dim = 1)) #열로 이어붙이기. /  열로 추가."
      ],
      "metadata": {
        "colab": {
          "base_uri": "https://localhost:8080/"
        },
        "id": "tE4dFexhDHo1",
        "outputId": "b5c31060-f702-4453-c755-5f8ddc31af25"
      },
      "execution_count": 52,
      "outputs": [
        {
          "output_type": "stream",
          "name": "stdout",
          "text": [
            "tensor([[1., 2.],\n",
            "        [3., 4.],\n",
            "        [5., 6.],\n",
            "        [7., 8.]])\n",
            "tensor([[1., 2., 5., 6.],\n",
            "        [3., 4., 7., 8.]])\n"
          ]
        }
      ]
    },
    {
      "cell_type": "markdown",
      "source": [
        "#Stacking(쌓기)"
      ],
      "metadata": {
        "id": "rRlFQH13D2gp"
      }
    },
    {
      "cell_type": "code",
      "source": [
        "x = torch.FloatTensor([1, 4])\n",
        "y = torch.FloatTensor([2, 5])\n",
        "z = torch.FloatTensor([3, 6])"
      ],
      "metadata": {
        "id": "6gbczXk5Dnsi"
      },
      "execution_count": 53,
      "outputs": []
    },
    {
      "cell_type": "code",
      "source": [
        "print(torch.stack([x,y,z])) # dim = 0\n",
        "print(torch.stack([x,y,z], dim = 1)) #두번째 차원이 증가하도록 스택킹"
      ],
      "metadata": {
        "colab": {
          "base_uri": "https://localhost:8080/"
        },
        "id": "L4gkeKEpDroA",
        "outputId": "06c3de55-76c6-4d0a-9dcb-cbbab3fc5fe4"
      },
      "execution_count": 57,
      "outputs": [
        {
          "output_type": "stream",
          "name": "stdout",
          "text": [
            "tensor([[1., 4.],\n",
            "        [2., 5.],\n",
            "        [3., 6.]])\n",
            "tensor([[1., 2., 3.],\n",
            "        [4., 5., 6.]])\n"
          ]
        }
      ]
    },
    {
      "cell_type": "markdown",
      "source": [
        "x,y,z는 모두 (2,) 크기 였음. 이를 unsqueez(0)을 하여 (1,2) (열벡터)가 됨. 이를 다시 cat(dim0=) 하여 스택킹 과정이 이루어지는 것임. "
      ],
      "metadata": {
        "id": "iW3esicoEDo7"
      }
    },
    {
      "cell_type": "code",
      "source": [
        "x = torch.FloatTensor([[0, 1, 2], [2, 1, 0]])\n",
        "print(x)"
      ],
      "metadata": {
        "colab": {
          "base_uri": "https://localhost:8080/"
        },
        "id": "kil68-HeExPE",
        "outputId": "f4884f94-d434-4360-9826-bfc5a7343ef4"
      },
      "execution_count": 58,
      "outputs": [
        {
          "output_type": "stream",
          "name": "stdout",
          "text": [
            "tensor([[0., 1., 2.],\n",
            "        [2., 1., 0.]])\n"
          ]
        }
      ]
    },
    {
      "cell_type": "code",
      "source": [
        "print(torch.ones_like(x)) #모양이 x와 같고 1로 값이 채워진 텐서 생성"
      ],
      "metadata": {
        "colab": {
          "base_uri": "https://localhost:8080/"
        },
        "id": "yKUIbXcoFHmj",
        "outputId": "fae28516-7506-4a37-e8ae-dc74b3547ece"
      },
      "execution_count": 59,
      "outputs": [
        {
          "output_type": "stream",
          "name": "stdout",
          "text": [
            "tensor([[1., 1., 1.],\n",
            "        [1., 1., 1.]])\n"
          ]
        }
      ]
    },
    {
      "cell_type": "code",
      "source": [
        "print(torch.zeros_like(x)) #모양이 x와 같고 0으로 값이 채워진 텐서 "
      ],
      "metadata": {
        "colab": {
          "base_uri": "https://localhost:8080/"
        },
        "id": "iQuO2BvQFTq9",
        "outputId": "bee94ce5-68b4-434d-ee35-56f9f2900b32"
      },
      "execution_count": 60,
      "outputs": [
        {
          "output_type": "stream",
          "name": "stdout",
          "text": [
            "tensor([[0., 0., 0.],\n",
            "        [0., 0., 0.]])\n"
          ]
        }
      ]
    },
    {
      "cell_type": "code",
      "source": [
        "x = torch.FloatTensor([[1, 2], [3, 4]])"
      ],
      "metadata": {
        "id": "Pr1dWY9MFcrC"
      },
      "execution_count": 61,
      "outputs": []
    },
    {
      "cell_type": "code",
      "source": [
        "print(x.mul(2))\n",
        "print(x)"
      ],
      "metadata": {
        "colab": {
          "base_uri": "https://localhost:8080/"
        },
        "id": "7-puQ7KHFgfT",
        "outputId": "58ec150e-b7e7-4e89-a489-0fe56101c3c6"
      },
      "execution_count": 63,
      "outputs": [
        {
          "output_type": "stream",
          "name": "stdout",
          "text": [
            "tensor([[2., 4.],\n",
            "        [6., 8.]])\n",
            "tensor([[1., 2.],\n",
            "        [3., 4.]])\n"
          ]
        }
      ]
    },
    {
      "cell_type": "code",
      "source": [
        "print(x.mul_(2)) #연산뒤에 '_'를 넣어주면 덮어쓰기 연산이 이루어짐.\n",
        "print(x)"
      ],
      "metadata": {
        "colab": {
          "base_uri": "https://localhost:8080/"
        },
        "id": "jpAtLDxIFpDg",
        "outputId": "0a52efa4-d828-4ac0-8d2b-dd7ce106ad00"
      },
      "execution_count": 66,
      "outputs": [
        {
          "output_type": "stream",
          "name": "stdout",
          "text": [
            "tensor([[ 8., 16.],\n",
            "        [24., 32.]])\n",
            "tensor([[ 8., 16.],\n",
            "        [24., 32.]])\n"
          ]
        }
      ]
    }
  ]
}