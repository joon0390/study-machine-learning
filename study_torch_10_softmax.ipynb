{
  "nbformat": 4,
  "nbformat_minor": 0,
  "metadata": {
    "colab": {
      "provenance": [],
      "authorship_tag": "ABX9TyMQYEvHj/Up6XNQfNuBPD60",
      "include_colab_link": true
    },
    "kernelspec": {
      "name": "python3",
      "display_name": "Python 3"
    },
    "language_info": {
      "name": "python"
    }
  },
  "cells": [
    {
      "cell_type": "markdown",
      "metadata": {
        "id": "view-in-github",
        "colab_type": "text"
      },
      "source": [
        "<a href=\"https://colab.research.google.com/github/kimgoinghard/study-machine-learning/blob/main/study_torch_10_softmax.ipynb\" target=\"_parent\"><img src=\"https://colab.research.google.com/assets/colab-badge.svg\" alt=\"Open In Colab\"/></a>"
      ]
    },
    {
      "cell_type": "markdown",
      "source": [
        "#One-hot Encoding(원핫인코딩)\n",
        "-선택해야 하는 개수만큼 차원을 가지면서 정답의 인덱스에 해당하는 원소는 1, 나머지 원소는 0을 갖도록 표현하는 방법이다.\n",
        "\n",
        "-정수 인코딩과 달리 원-핫 인코딩은 분류 문제 모든 클래스 간의 관계를 균등하게 분배한다."
      ],
      "metadata": {
        "id": "sOLr0JXAtkxm"
      }
    },
    {
      "cell_type": "markdown",
      "source": [
        "-이진분류를 위한 로지스틱 회귀와 다르게 다중분류를 위해서는 Softmax함수를 사용한다. \n",
        "\n",
        "-소프트맥스 함수는 출력의 총합이 1이 되어, 각 출력값을 확률로 생각할 수 있다.\n",
        "\n",
        "-또한 비용함수로 크로스엔트로피 오차를 사용한다."
      ],
      "metadata": {
        "id": "x54FZjtSwNGe"
      }
    },
    {
      "cell_type": "code",
      "execution_count": null,
      "metadata": {
        "id": "4XzgG-8fqyBB"
      },
      "outputs": [],
      "source": [
        "import torch\n",
        "import torch.nn as nn\n",
        "import torch.nn.functional as F"
      ]
    },
    {
      "cell_type": "code",
      "source": [
        "torch.manual_seed(1)"
      ],
      "metadata": {
        "colab": {
          "base_uri": "https://localhost:8080/"
        },
        "id": "TC5s8-ZiD9-_",
        "outputId": "dac30083-6665-47ea-fd5f-49c00e63a3c6"
      },
      "execution_count": null,
      "outputs": [
        {
          "output_type": "execute_result",
          "data": {
            "text/plain": [
              "<torch._C.Generator at 0x7fac64ba16f0>"
            ]
          },
          "metadata": {},
          "execution_count": 3
        }
      ]
    },
    {
      "cell_type": "code",
      "source": [
        "z  = torch.FloatTensor([1,2,3])"
      ],
      "metadata": {
        "id": "StVF8SkyEG9h"
      },
      "execution_count": null,
      "outputs": []
    },
    {
      "cell_type": "code",
      "source": [
        "y_hat = F.softmax(z, dim =0) #z값에 대한 실제 소프트맥스함수 출력값\n",
        "print(y_hat)"
      ],
      "metadata": {
        "colab": {
          "base_uri": "https://localhost:8080/"
        },
        "id": "26pJq3G7EYeS",
        "outputId": "78749e33-fef3-4161-a983-d776a4c760eb"
      },
      "execution_count": null,
      "outputs": [
        {
          "output_type": "stream",
          "name": "stdout",
          "text": [
            "tensor([0.0900, 0.2447, 0.6652])\n"
          ]
        }
      ]
    },
    {
      "cell_type": "code",
      "source": [
        "print(y_hat.sum().item()) #출력값의 합은 역시 1이다."
      ],
      "metadata": {
        "colab": {
          "base_uri": "https://localhost:8080/"
        },
        "id": "CyShlbLzEyQe",
        "outputId": "47c3cf13-ab7e-46bc-d553-b9477ccab043"
      },
      "execution_count": null,
      "outputs": [
        {
          "output_type": "stream",
          "name": "stdout",
          "text": [
            "1.0\n"
          ]
        }
      ]
    },
    {
      "cell_type": "code",
      "source": [
        "z = torch.rand(3, 5, requires_grad = True) #3x5텐서 생성, 갱신 가능"
      ],
      "metadata": {
        "id": "f_lkGiD9Eth2"
      },
      "execution_count": null,
      "outputs": []
    },
    {
      "cell_type": "code",
      "source": [
        "hypo = F.softmax(z, dim = 1) #dim =1 이므로 각 열의 합, 즉 같은 행의 합이 1이 되어야 한다. \n",
        "print(hypo)"
      ],
      "metadata": {
        "colab": {
          "base_uri": "https://localhost:8080/"
        },
        "id": "fM3fxpvWFG_G",
        "outputId": "8ecc2690-cd11-4fd5-d160-d8d3f97a59d4"
      },
      "execution_count": null,
      "outputs": [
        {
          "output_type": "stream",
          "name": "stdout",
          "text": [
            "tensor([[0.1664, 0.1871, 0.1737, 0.2695, 0.2033],\n",
            "        [0.2002, 0.1783, 0.2218, 0.1944, 0.2054],\n",
            "        [0.1809, 0.2380, 0.2318, 0.1084, 0.2409]], grad_fn=<SoftmaxBackward0>)\n"
          ]
        }
      ]
    },
    {
      "cell_type": "code",
      "source": [
        "y = torch.randint(5,(3,)).long() #5이하의 랜덤 숫자로 (3,) 텐서 생성\n",
        "y"
      ],
      "metadata": {
        "colab": {
          "base_uri": "https://localhost:8080/"
        },
        "id": "no0AXuY0FvaF",
        "outputId": "11b2e42b-1f61-41a2-e601-ea883709fd1a"
      },
      "execution_count": null,
      "outputs": [
        {
          "output_type": "execute_result",
          "data": {
            "text/plain": [
              "tensor([0, 1, 2])"
            ]
          },
          "metadata": {},
          "execution_count": 40
        }
      ]
    },
    {
      "cell_type": "code",
      "source": [
        "y_one_hot = torch.zeros_like(hypo) #hypo, 즉 실제 소프트맥스 함숫값과 형태가 같고 모든 원소는 0인 텐서 생성\n",
        "y_one_hot.scatter_(1, y.unsqueeze(1),1) # y.unsqueeze(1)을 하게되면 y가 (3, ) 이었으므로 (3,1)이 된다. \n",
        "#scatter의 첫인자는 dim = 1, 즉 열에 대해서 수행하라고 알려준 것이고,  세번째 인자에 1을 넣어주어 두번쨰인자의 인덱스에 1을 넣으라고 알려준것이다.\n",
        "# scatter(차원, 인덱스, 넣을 숫자)"
      ],
      "metadata": {
        "colab": {
          "base_uri": "https://localhost:8080/"
        },
        "id": "7TcnvQjbGNI0",
        "outputId": "a7aacc19-7488-4aff-f1ce-60a2e60728d1"
      },
      "execution_count": null,
      "outputs": [
        {
          "output_type": "execute_result",
          "data": {
            "text/plain": [
              "tensor([[1., 0., 0., 0., 0.],\n",
              "        [0., 1., 0., 0., 0.],\n",
              "        [0., 0., 1., 0., 0.]])"
            ]
          },
          "metadata": {},
          "execution_count": 42
        }
      ]
    },
    {
      "cell_type": "code",
      "source": [
        "print(y.unsqueeze(1))"
      ],
      "metadata": {
        "colab": {
          "base_uri": "https://localhost:8080/"
        },
        "id": "nrrGZvbOG4aC",
        "outputId": "43e4c223-a6dc-4ac8-e5ac-2facbdb388d7"
      },
      "execution_count": null,
      "outputs": [
        {
          "output_type": "stream",
          "name": "stdout",
          "text": [
            "tensor([[0],\n",
            "        [1],\n",
            "        [2]])\n"
          ]
        }
      ]
    },
    {
      "cell_type": "code",
      "source": [
        "print(y_one_hot)"
      ],
      "metadata": {
        "colab": {
          "base_uri": "https://localhost:8080/"
        },
        "id": "es2uGsCMG9Kb",
        "outputId": "b16a877c-b4ee-45d5-809b-a422863c3e9f"
      },
      "execution_count": null,
      "outputs": [
        {
          "output_type": "stream",
          "name": "stdout",
          "text": [
            "tensor([[1., 0., 0., 0., 0.],\n",
            "        [0., 1., 0., 0., 0.],\n",
            "        [0., 0., 1., 0., 0.]])\n"
          ]
        }
      ]
    },
    {
      "cell_type": "markdown",
      "source": [
        "이제 소프트맥스 함수의 비용함수를 만들겠다."
      ],
      "metadata": {
        "id": "rPr31M7uHgOz"
      }
    },
    {
      "cell_type": "code",
      "source": [
        "cost = (y_one_hot*-torch.log(hypo)).sum(dim=1).mean() #sum의 dim이 1, 같은 행의 데이터가 한 입력으로 온것이기 떄문에 열기준 으로 계산해야 행의 합을 계산하는 것임.\n",
        "print(cost)"
      ],
      "metadata": {
        "colab": {
          "base_uri": "https://localhost:8080/"
        },
        "id": "nlNgWmi-HfzM",
        "outputId": "389fc6c1-be2e-46d5-b1c7-edd6d6634c72"
      },
      "execution_count": null,
      "outputs": [
        {
          "output_type": "stream",
          "name": "stdout",
          "text": [
            "tensor(1.6599, grad_fn=<MeanBackward0>)\n"
          ]
        }
      ]
    },
    {
      "cell_type": "code",
      "source": [
        "torch.log(F.softmax(z, dim=1)) "
      ],
      "metadata": {
        "colab": {
          "base_uri": "https://localhost:8080/"
        },
        "id": "xcxQSqRmIPTg",
        "outputId": "f70223a3-6d51-4f63-bc6d-192ade9eb227"
      },
      "execution_count": null,
      "outputs": [
        {
          "output_type": "execute_result",
          "data": {
            "text/plain": [
              "tensor([[-1.7935, -1.6760, -1.7504, -1.3114, -1.5929],\n",
              "        [-1.6086, -1.7244, -1.5062, -1.6381, -1.5826],\n",
              "        [-1.7096, -1.4354, -1.4617, -2.2223, -1.4236]], grad_fn=<LogBackward0>)"
            ]
          },
          "metadata": {},
          "execution_count": 55
        }
      ]
    },
    {
      "cell_type": "code",
      "source": [
        "F.log_softmax(z, dim=1) #위의 함수와 같다. 파이토치에서는 softmax와 log를 결합한 log_softmax함수를 제공한다. "
      ],
      "metadata": {
        "colab": {
          "base_uri": "https://localhost:8080/"
        },
        "id": "LCHn64oLIfrn",
        "outputId": "0a3c9faf-6fa4-46bf-cbc8-72ecc91fe915"
      },
      "execution_count": null,
      "outputs": [
        {
          "output_type": "execute_result",
          "data": {
            "text/plain": [
              "tensor([[-1.7935, -1.6760, -1.7504, -1.3114, -1.5929],\n",
              "        [-1.6086, -1.7244, -1.5062, -1.6381, -1.5826],\n",
              "        [-1.7096, -1.4354, -1.4617, -2.2223, -1.4236]],\n",
              "       grad_fn=<LogSoftmaxBackward0>)"
            ]
          },
          "metadata": {},
          "execution_count": 56
        }
      ]
    },
    {
      "cell_type": "code",
      "source": [
        "(y_one_hot*-torch.log(hypo)).sum(dim=1).mean() #torch.log(hypo)를 log_softmax로 대체할 수 있다. (hypo는 softmax를 통과시킨 값임.)"
      ],
      "metadata": {
        "colab": {
          "base_uri": "https://localhost:8080/"
        },
        "outputId": "389fc6c1-be2e-46d5-b1c7-edd6d6634c72",
        "id": "Y4Kjblw-Is22"
      },
      "execution_count": null,
      "outputs": [
        {
          "output_type": "stream",
          "name": "stdout",
          "text": [
            "tensor(1.6599, grad_fn=<MeanBackward0>)\n"
          ]
        }
      ]
    },
    {
      "cell_type": "code",
      "source": [
        "(y_one_hot*F.log_softmax(z)).sum(dim=1).mean()"
      ],
      "metadata": {
        "colab": {
          "base_uri": "https://localhost:8080/"
        },
        "id": "_ux6SQ6PJApD",
        "outputId": "f48f47d1-1f4b-4659-b9e1-6320e802d20b"
      },
      "execution_count": null,
      "outputs": [
        {
          "output_type": "stream",
          "name": "stderr",
          "text": [
            "<ipython-input-58-1e3ce4f80220>:1: UserWarning: Implicit dimension choice for log_softmax has been deprecated. Change the call to include dim=X as an argument.\n",
            "  (y_one_hot*F.log_softmax(z)).sum(dim=1).mean()\n"
          ]
        },
        {
          "output_type": "execute_result",
          "data": {
            "text/plain": [
              "tensor(-1.6599, grad_fn=<MeanBackward0>)"
            ]
          },
          "metadata": {},
          "execution_count": 58
        }
      ]
    },
    {
      "cell_type": "code",
      "source": [
        "#more high level\n",
        "F.nll_loss(F.log_softmax(z,dim=1),y) "
      ],
      "metadata": {
        "colab": {
          "base_uri": "https://localhost:8080/"
        },
        "id": "6XKRbhGLJNFD",
        "outputId": "21a5c60a-f79e-488a-bb28-54467bc79e81"
      },
      "execution_count": null,
      "outputs": [
        {
          "output_type": "execute_result",
          "data": {
            "text/plain": [
              "tensor(1.6599, grad_fn=<NllLossBackward0>)"
            ]
          },
          "metadata": {},
          "execution_count": 60
        }
      ]
    },
    {
      "cell_type": "markdown",
      "source": [
        "위에서 nll은 negative log likelihood의 약자이다. nll_loss는 F.log_softmax()를 수행한 후에 남은 계산(더하고 평균내는 것)을 수행한다. "
      ],
      "metadata": {
        "id": "VjjwHrAKJe-7"
      }
    },
    {
      "cell_type": "code",
      "source": [
        "F.cross_entropy(z,y) # y : one-ht-vector, z : 입력데이터,torchTensor  //// F.cross_entropy는 비용함수에 소프트맥스까지 포함하고 있다."
      ],
      "metadata": {
        "colab": {
          "base_uri": "https://localhost:8080/"
        },
        "id": "e2gu2vJqJxtY",
        "outputId": "c5c3a2e3-d484-4634-b81a-404da6ccb0db"
      },
      "execution_count": null,
      "outputs": [
        {
          "output_type": "execute_result",
          "data": {
            "text/plain": [
              "tensor(1.6599, grad_fn=<NllLossBackward0>)"
            ]
          },
          "metadata": {},
          "execution_count": 61
        }
      ]
    }
  ]
}