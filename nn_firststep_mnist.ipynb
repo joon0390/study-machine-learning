{
  "nbformat": 4,
  "nbformat_minor": 0,
  "metadata": {
    "colab": {
      "provenance": [],
      "authorship_tag": "ABX9TyMcYZXUPB5ZGH1hPKY1+upu",
      "include_colab_link": true
    },
    "kernelspec": {
      "name": "python3",
      "display_name": "Python 3"
    },
    "language_info": {
      "name": "python"
    }
  },
  "cells": [
    {
      "cell_type": "markdown",
      "metadata": {
        "id": "view-in-github",
        "colab_type": "text"
      },
      "source": [
        "<a href=\"https://colab.research.google.com/github/kimgoinghard/study-machine-learning/blob/main/nn_firststep_mnist.ipynb\" target=\"_parent\"><img src=\"https://colab.research.google.com/assets/colab-badge.svg\" alt=\"Open In Colab\"/></a>"
      ]
    },
    {
      "cell_type": "code",
      "execution_count": 48,
      "metadata": {
        "id": "c1lbbj6yplzr"
      },
      "outputs": [],
      "source": [
        "import numpy as np\n",
        "import scipy.special\n",
        " \n",
        "class neuralNetwork:\n",
        "  def __init__(self, inputnodes, hiddennodes, outputnodes, learingrate): \n",
        "    self.inodes = inputnodes\n",
        "    self.hnodes = hiddennodes\n",
        "    self.onodes = outputnodes\n",
        "    self.lr = learingrate\n",
        "    \n",
        "    self.wih = np.random.normal(0.0, pow(self.hnodes, -0.5),(self.hnodes, self.inodes)) \n",
        "    self.who = np.random.normal(0.0, pow(self.onodes, -0.5),(self.onodes, self.hnodes))\n",
        "\n",
        "    self.activation = lambda x : scipy.special.expit(x) \n",
        "\n",
        "  def train(self, inputs_list, targets_list):\n",
        "    \n",
        "    inputs = np.array(inputs_list, ndmin=2).T\n",
        "    targets = np.array(targets_list, ndmin =2).T\n",
        "\n",
        "    hidden_inputs = np.dot(self.wih, inputs)\n",
        "    hidden_outputs = self.activation(hidden_inputs)\n",
        "    fianl_inputs = np.dot(self.who, hidden_outputs)\n",
        "    final_outputs = self.activation(fianl_inputs)\n",
        "\n",
        "    output_error = targets - final_outputs\n",
        "    hidden_error = np.dot(self.who.T, output_error)\n",
        "    \n",
        "    self.who += self.lr*np.dot((output_error*final_outputs*(1-final_outputs)), np.transpose(hidden_outputs))\n",
        "    self.wih += self.lr*np.dot(hidden_error*hidden_outputs*(1-hidden_outputs), np.transpose(inputs))\n",
        "    pass\n",
        "\n",
        "\n",
        "  def query(self, input_list):\n",
        "    inputs = np.array(input_list, ndmin = 2).T \n",
        "    hidden_inputs = np.dot(self.wih, inputs)\n",
        "    hidden_outputs =self.activation(hidden_inputs)\n",
        "    \n",
        "    final_inputs = np.dot(self.who, hidden_outputs)\n",
        "    final_outputs= self.activation(final_inputs)\n",
        "\n",
        "    return final_outputs\n",
        "\n",
        "input_nodes = 784\n",
        "hidden_nodes = 100\n",
        "output_nodes = 10\n",
        "learing_rate = 0.3\n",
        "\n",
        "n = neuralNetwork(input_nodes, hidden_nodes, output_nodes, learing_rate) \n",
        "\n",
        "\n",
        "training_data_file = open('mnist_dataset/mnist_train_100.csv', 'r') \n",
        "training_data_list = training_data_file.readlines() \n",
        "training_data_file.close() \n",
        "\n",
        "for record in training_data_list:\n",
        "  #쉼표기준으로 분리\n",
        "  all_values = record.split(',')\n",
        "  #입력값 범위와 값 조정\n",
        "  inputs = (np.asfarray(all_values[1:]) / 255.0)*0.99 + 0.01\n",
        "  #결과 행렬 생성\n",
        "  targets = np.zeros(output_nodes) + 0.01 \n",
        "  targets[int(all_values[0])] = 0.99\n",
        "  n.train(inputs, targets)"
      ]
    },
    {
      "cell_type": "code",
      "source": [
        "#test \n",
        "test_data_file = open('mnist_dataset/mnist_test_10.csv', 'r')\n",
        "test_data_list = test_data_file.readlines()\n",
        "test_data_file.close()"
      ],
      "metadata": {
        "id": "6uPm8YUutZ1h"
      },
      "execution_count": null,
      "outputs": []
    },
    {
      "cell_type": "code",
      "source": [
        "#신경망 테스트\n",
        "score=[]\n",
        "\n",
        "for record in test_data_list:\n",
        "  all_values = record.split(',')\n",
        "  correct_label = int(all_values[0])\n",
        "  print(correct_label, \"correct_label\")\n",
        "\n",
        "  inputs = (np.asfarray(all_values[1:]) / 255.0*0.99) + 0.01\n",
        "  outputs = n.query(inputs) #질의과정\n",
        "  \n",
        "  label = np.argmax(outputs) #행렬 내에서 가장 큰 값을 찾아서 위치를 알려주는 함수 -> 0을 반환한다면 0번째 원소가 가장 크다느 의미이므로  도출한 답이 0이라는 것.\n",
        "  print(label, \"networks's answer\")\n",
        "\n",
        "  if label == correct_label:\n",
        "    score.append(1)\n",
        "  else:\n",
        "    score.append(0)\n",
        "    pass\n",
        "  pass\n",
        "  #score는 정답이면 1, 오답이면 0을 저장해놓은 배열"
      ],
      "metadata": {
        "colab": {
          "base_uri": "https://localhost:8080/"
        },
        "id": "l5R6CKrXtrY5",
        "outputId": "81c0d677-c6a0-4099-bde2-d05be9ba4c62"
      },
      "execution_count": 43,
      "outputs": [
        {
          "output_type": "stream",
          "name": "stdout",
          "text": [
            "7 correct_label\n",
            "7 networks's answer\n",
            "2 correct_label\n",
            "2 networks's answer\n",
            "1 correct_label\n",
            "1 networks's answer\n",
            "0 correct_label\n",
            "0 networks's answer\n",
            "4 correct_label\n",
            "4 networks's answer\n",
            "1 correct_label\n",
            "1 networks's answer\n",
            "4 correct_label\n",
            "4 networks's answer\n",
            "9 correct_label\n",
            "9 networks's answer\n",
            "5 correct_label\n",
            "5 networks's answer\n",
            "9 correct_label\n",
            "9 networks's answer\n"
          ]
        }
      ]
    },
    {
      "cell_type": "code",
      "source": [
        "score_array = np.asfarray(score) #실수 넘파이 배열로 변환\n",
        "print('Performance : {0}% '.format((np.sum(score_array) / len(score_array)*100)))"
      ],
      "metadata": {
        "colab": {
          "base_uri": "https://localhost:8080/"
        },
        "id": "qs8CJeKRvren",
        "outputId": "d56169a3-395c-4b17-8509-62659b8ec01f"
      },
      "execution_count": null,
      "outputs": [
        {
          "output_type": "stream",
          "name": "stdout",
          "text": [
            "Performance : 60.0% \n"
          ]
        }
      ]
    },
    {
      "cell_type": "markdown",
      "source": [
        "지금까지는 100개의 데이터만을 가지고 학습했다면 이제는 MNIST 전체 파일을 가지고 학습시켜본다"
      ],
      "metadata": {
        "id": "H4V_gcS7xeny"
      }
    },
    {
      "cell_type": "code",
      "source": [
        "input_nodes = 784\n",
        "hidden_nodes = 100\n",
        "output_nodes = 10\n",
        "learing_rate = 0.3\n",
        "\n",
        "n = neuralNetwork(input_nodes, hidden_nodes, output_nodes, learing_rate) \n",
        "\n",
        "training_data_file = open('mnist_dataset/mnist_train.csv', 'r') \n",
        "training_data_list = training_data_file.readlines() \n",
        "training_data_file.close() \n",
        "\n",
        "for record in training_data_list:\n",
        "  all_values = record.split(',')\n",
        "  inputs = (np.asfarray(all_values[1:]) / 255.0*0.99) + 0.01\n",
        "  targets = np.zeros(output_nodes) + 0.01 \n",
        "  targets[int(all_values[0])] = 0.99\n",
        "  n.train(inputs, targets)\n",
        "  \n",
        "\n",
        "#test\n",
        "score=[]\n",
        "test_data_file = open('mnist_dataset/mnist_test.csv', 'r')\n",
        "test_data_list = test_data_file.readlines()\n",
        "test_data_file.close()\n",
        "\n",
        "for record in test_data_list:\n",
        "  all_values = record.split(',')\n",
        "  correct_label = int(all_values[0])\n",
        "  print(correct_label, \"correct_label\")\n",
        "\n",
        "  inputs = (np.asfarray(all_values[1:]) / 255.0*0.99) + 0.01\n",
        "  outputs = n.query(inputs) \n",
        "  \n",
        "  label = np.argmax(outputs) \n",
        "  print(label, \"networks's answer\")\n",
        "\n",
        "  if label == correct_label:\n",
        "    score.append(1)\n",
        "  else:\n",
        "    score.append(0)\n",
        "    pass\n",
        "  pass\n",
        "\n",
        "score_array = np.asfarray(score) \n",
        "print('Performance : {0}% '.format((np.sum(score_array) / len(score_array)*100)))"
      ],
      "metadata": {
        "colab": {
          "base_uri": "https://localhost:8080/",
          "height": 296
        },
        "id": "0w04s_GPxbc4",
        "outputId": "37a2abfc-4508-49a1-9cdf-1aa0f4162b16"
      },
      "execution_count": 50,
      "outputs": [
        {
          "output_type": "error",
          "ename": "ValueError",
          "evalue": "ignored",
          "traceback": [
            "\u001b[0;31m---------------------------------------------------------------------------\u001b[0m",
            "\u001b[0;31mValueError\u001b[0m                                Traceback (most recent call last)",
            "\u001b[0;32m<ipython-input-50-23e2fedee6a0>\u001b[0m in \u001b[0;36m<module>\u001b[0;34m\u001b[0m\n\u001b[1;32m     15\u001b[0m   \u001b[0mtargets\u001b[0m \u001b[0;34m=\u001b[0m \u001b[0mnp\u001b[0m\u001b[0;34m.\u001b[0m\u001b[0mzeros\u001b[0m\u001b[0;34m(\u001b[0m\u001b[0moutput_nodes\u001b[0m\u001b[0;34m)\u001b[0m \u001b[0;34m+\u001b[0m \u001b[0;36m0.01\u001b[0m\u001b[0;34m\u001b[0m\u001b[0;34m\u001b[0m\u001b[0m\n\u001b[1;32m     16\u001b[0m   \u001b[0mtargets\u001b[0m\u001b[0;34m[\u001b[0m\u001b[0mint\u001b[0m\u001b[0;34m(\u001b[0m\u001b[0mall_values\u001b[0m\u001b[0;34m[\u001b[0m\u001b[0;36m0\u001b[0m\u001b[0;34m]\u001b[0m\u001b[0;34m)\u001b[0m\u001b[0;34m]\u001b[0m \u001b[0;34m=\u001b[0m \u001b[0;36m0.99\u001b[0m\u001b[0;34m\u001b[0m\u001b[0;34m\u001b[0m\u001b[0m\n\u001b[0;32m---> 17\u001b[0;31m   \u001b[0mn\u001b[0m\u001b[0;34m.\u001b[0m\u001b[0mtrain\u001b[0m\u001b[0;34m(\u001b[0m\u001b[0minputs\u001b[0m\u001b[0;34m,\u001b[0m \u001b[0mtargets\u001b[0m\u001b[0;34m)\u001b[0m\u001b[0;34m\u001b[0m\u001b[0;34m\u001b[0m\u001b[0m\n\u001b[0m\u001b[1;32m     18\u001b[0m   \u001b[0;32mpass\u001b[0m\u001b[0;34m\u001b[0m\u001b[0;34m\u001b[0m\u001b[0m\n\u001b[1;32m     19\u001b[0m \u001b[0;34m\u001b[0m\u001b[0m\n",
            "\u001b[0;32m<ipython-input-48-c72b069131da>\u001b[0m in \u001b[0;36mtrain\u001b[0;34m(self, inputs_list, targets_list)\u001b[0m\n\u001b[1;32m     19\u001b[0m     \u001b[0mtargets\u001b[0m \u001b[0;34m=\u001b[0m \u001b[0mnp\u001b[0m\u001b[0;34m.\u001b[0m\u001b[0marray\u001b[0m\u001b[0;34m(\u001b[0m\u001b[0mtargets_list\u001b[0m\u001b[0;34m,\u001b[0m \u001b[0mndmin\u001b[0m \u001b[0;34m=\u001b[0m\u001b[0;36m2\u001b[0m\u001b[0;34m)\u001b[0m\u001b[0;34m.\u001b[0m\u001b[0mT\u001b[0m\u001b[0;34m\u001b[0m\u001b[0;34m\u001b[0m\u001b[0m\n\u001b[1;32m     20\u001b[0m \u001b[0;34m\u001b[0m\u001b[0m\n\u001b[0;32m---> 21\u001b[0;31m     \u001b[0mhidden_inputs\u001b[0m \u001b[0;34m=\u001b[0m \u001b[0mnp\u001b[0m\u001b[0;34m.\u001b[0m\u001b[0mdot\u001b[0m\u001b[0;34m(\u001b[0m\u001b[0mself\u001b[0m\u001b[0;34m.\u001b[0m\u001b[0mwih\u001b[0m\u001b[0;34m,\u001b[0m \u001b[0minputs\u001b[0m\u001b[0;34m)\u001b[0m\u001b[0;34m\u001b[0m\u001b[0;34m\u001b[0m\u001b[0m\n\u001b[0m\u001b[1;32m     22\u001b[0m     \u001b[0mhidden_outputs\u001b[0m \u001b[0;34m=\u001b[0m \u001b[0mself\u001b[0m\u001b[0;34m.\u001b[0m\u001b[0mactivation\u001b[0m\u001b[0;34m(\u001b[0m\u001b[0mhidden_inputs\u001b[0m\u001b[0;34m)\u001b[0m\u001b[0;34m\u001b[0m\u001b[0;34m\u001b[0m\u001b[0m\n\u001b[1;32m     23\u001b[0m     \u001b[0mfianl_inputs\u001b[0m \u001b[0;34m=\u001b[0m \u001b[0mnp\u001b[0m\u001b[0;34m.\u001b[0m\u001b[0mdot\u001b[0m\u001b[0;34m(\u001b[0m\u001b[0mself\u001b[0m\u001b[0;34m.\u001b[0m\u001b[0mwho\u001b[0m\u001b[0;34m,\u001b[0m \u001b[0mhidden_outputs\u001b[0m\u001b[0;34m)\u001b[0m\u001b[0;34m\u001b[0m\u001b[0;34m\u001b[0m\u001b[0m\n",
            "\u001b[0;32m/usr/local/lib/python3.9/dist-packages/numpy/core/overrides.py\u001b[0m in \u001b[0;36mdot\u001b[0;34m(*args, **kwargs)\u001b[0m\n",
            "\u001b[0;31mValueError\u001b[0m: shapes (100,784) and (53,1) not aligned: 784 (dim 1) != 53 (dim 0)"
          ]
        }
      ]
    },
    {
      "cell_type": "code",
      "source": [
        "epochs = 2\n",
        "for e in range(epochs):\n",
        "  for record in training_data_list:\n",
        "    all_values = record.split(',')\n",
        "    input = (np.asfarray(all_values[1:])/255.0)*0.99 + 0.01\n",
        "    targets = np.zeros(output_nodes) + 0.01\n",
        "    targets[int(all_values[0])] = 0.99\n",
        "    n.train(inputs, targets)\n",
        "    "
      ],
      "metadata": {
        "colab": {
          "base_uri": "https://localhost:8080/",
          "height": 261
        },
        "id": "KpPvE7D08WhM",
        "outputId": "977e73a2-4128-464c-bda3-5b811e9816a4"
      },
      "execution_count": 52,
      "outputs": [
        {
          "output_type": "error",
          "ename": "ValueError",
          "evalue": "ignored",
          "traceback": [
            "\u001b[0;31m---------------------------------------------------------------------------\u001b[0m",
            "\u001b[0;31mValueError\u001b[0m                                Traceback (most recent call last)",
            "\u001b[0;32m<ipython-input-52-38791e1bc432>\u001b[0m in \u001b[0;36m<module>\u001b[0;34m\u001b[0m\n\u001b[1;32m      6\u001b[0m     \u001b[0mtargets\u001b[0m \u001b[0;34m=\u001b[0m \u001b[0mnp\u001b[0m\u001b[0;34m.\u001b[0m\u001b[0mzeros\u001b[0m\u001b[0;34m(\u001b[0m\u001b[0moutput_nodes\u001b[0m\u001b[0;34m)\u001b[0m \u001b[0;34m+\u001b[0m \u001b[0;36m0.01\u001b[0m\u001b[0;34m\u001b[0m\u001b[0;34m\u001b[0m\u001b[0m\n\u001b[1;32m      7\u001b[0m     \u001b[0mtargets\u001b[0m\u001b[0;34m[\u001b[0m\u001b[0mint\u001b[0m\u001b[0;34m(\u001b[0m\u001b[0mall_values\u001b[0m\u001b[0;34m[\u001b[0m\u001b[0;36m0\u001b[0m\u001b[0;34m]\u001b[0m\u001b[0;34m)\u001b[0m\u001b[0;34m]\u001b[0m \u001b[0;34m=\u001b[0m \u001b[0;36m0.99\u001b[0m\u001b[0;34m\u001b[0m\u001b[0;34m\u001b[0m\u001b[0m\n\u001b[0;32m----> 8\u001b[0;31m     \u001b[0mn\u001b[0m\u001b[0;34m.\u001b[0m\u001b[0mtrain\u001b[0m\u001b[0;34m(\u001b[0m\u001b[0minputs\u001b[0m\u001b[0;34m,\u001b[0m \u001b[0mtargets\u001b[0m\u001b[0;34m)\u001b[0m\u001b[0;34m\u001b[0m\u001b[0;34m\u001b[0m\u001b[0m\n\u001b[0m",
            "\u001b[0;32m<ipython-input-48-c72b069131da>\u001b[0m in \u001b[0;36mtrain\u001b[0;34m(self, inputs_list, targets_list)\u001b[0m\n\u001b[1;32m     19\u001b[0m     \u001b[0mtargets\u001b[0m \u001b[0;34m=\u001b[0m \u001b[0mnp\u001b[0m\u001b[0;34m.\u001b[0m\u001b[0marray\u001b[0m\u001b[0;34m(\u001b[0m\u001b[0mtargets_list\u001b[0m\u001b[0;34m,\u001b[0m \u001b[0mndmin\u001b[0m \u001b[0;34m=\u001b[0m\u001b[0;36m2\u001b[0m\u001b[0;34m)\u001b[0m\u001b[0;34m.\u001b[0m\u001b[0mT\u001b[0m\u001b[0;34m\u001b[0m\u001b[0;34m\u001b[0m\u001b[0m\n\u001b[1;32m     20\u001b[0m \u001b[0;34m\u001b[0m\u001b[0m\n\u001b[0;32m---> 21\u001b[0;31m     \u001b[0mhidden_inputs\u001b[0m \u001b[0;34m=\u001b[0m \u001b[0mnp\u001b[0m\u001b[0;34m.\u001b[0m\u001b[0mdot\u001b[0m\u001b[0;34m(\u001b[0m\u001b[0mself\u001b[0m\u001b[0;34m.\u001b[0m\u001b[0mwih\u001b[0m\u001b[0;34m,\u001b[0m \u001b[0minputs\u001b[0m\u001b[0;34m)\u001b[0m\u001b[0;34m\u001b[0m\u001b[0;34m\u001b[0m\u001b[0m\n\u001b[0m\u001b[1;32m     22\u001b[0m     \u001b[0mhidden_outputs\u001b[0m \u001b[0;34m=\u001b[0m \u001b[0mself\u001b[0m\u001b[0;34m.\u001b[0m\u001b[0mactivation\u001b[0m\u001b[0;34m(\u001b[0m\u001b[0mhidden_inputs\u001b[0m\u001b[0;34m)\u001b[0m\u001b[0;34m\u001b[0m\u001b[0;34m\u001b[0m\u001b[0m\n\u001b[1;32m     23\u001b[0m     \u001b[0mfianl_inputs\u001b[0m \u001b[0;34m=\u001b[0m \u001b[0mnp\u001b[0m\u001b[0;34m.\u001b[0m\u001b[0mdot\u001b[0m\u001b[0;34m(\u001b[0m\u001b[0mself\u001b[0m\u001b[0;34m.\u001b[0m\u001b[0mwho\u001b[0m\u001b[0;34m,\u001b[0m \u001b[0mhidden_outputs\u001b[0m\u001b[0;34m)\u001b[0m\u001b[0;34m\u001b[0m\u001b[0;34m\u001b[0m\u001b[0m\n",
            "\u001b[0;32m/usr/local/lib/python3.9/dist-packages/numpy/core/overrides.py\u001b[0m in \u001b[0;36mdot\u001b[0;34m(*args, **kwargs)\u001b[0m\n",
            "\u001b[0;31mValueError\u001b[0m: shapes (100,784) and (53,1) not aligned: 784 (dim 1) != 53 (dim 0)"
          ]
        }
      ]
    },
    {
      "cell_type": "markdown",
      "source": [
        "#신경망 개선\n",
        "####학습률 변경\n",
        " - 너무 작거나 크면 안됨. \n",
        "\n",
        "####학습횟수 늘리기\n",
        "- 에포크 : 1번의 수행(주어진 데이터를 전부 1회 활용)\n",
        "-  무턱대고 늘리다 보면 train data에 오버피팅되어 성능이 오히려 감소할 수 있음. \n",
        "\n",
        "###동시 시행\n",
        "- 상대적으로 학습률이 작을 때 에포크가 커도 성능 감소율이 적다. (이번 모델에서는)\n",
        "\n",
        "####신경망의 구조 변경\n",
        "- 현재 은닉층의 노드는 100개이다. 이는 특별한 이유는 없으며 사용자가 지정해주어야 하는 하이퍼 파라미터이다. \n",
        "- 은닉층 노드 개수를 늘릴수록 성능은 좋아지지만 연산시간이 증가하게 되어 컴퓨터마다 적절한 개수를 지정해주어야 한다. "
      ],
      "metadata": {
        "id": "X11xk_AX6KZ5"
      }
    },
    {
      "cell_type": "code",
      "source": [],
      "metadata": {
        "id": "iM9d7LzL6Jar"
      },
      "execution_count": null,
      "outputs": []
    }
  ]
}