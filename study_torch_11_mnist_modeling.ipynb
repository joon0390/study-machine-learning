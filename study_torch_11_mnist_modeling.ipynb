{
  "nbformat": 4,
  "nbformat_minor": 0,
  "metadata": {
    "colab": {
      "provenance": [],
      "authorship_tag": "ABX9TyN51ZOYbIgc5qUQkF4U2WAW",
      "include_colab_link": true
    },
    "kernelspec": {
      "name": "python3",
      "display_name": "Python 3"
    },
    "language_info": {
      "name": "python"
    },
    "accelerator": "GPU",
    "gpuClass": "standard"
  },
  "cells": [
    {
      "cell_type": "markdown",
      "metadata": {
        "id": "view-in-github",
        "colab_type": "text"
      },
      "source": [
        "<a href=\"https://colab.research.google.com/github/kimgoinghard/study-machine-learning/blob/main/study_torch_11_mnist_modeling.ipynb\" target=\"_parent\"><img src=\"https://colab.research.google.com/assets/colab-badge.svg\" alt=\"Open In Colab\"/></a>"
      ]
    },
    {
      "cell_type": "markdown",
      "source": [
        "#Softmax regrssion을 활용하여 MNIST 데이터 분류하기\n",
        " - mnist데이터는 0에서 9까지의 이미지로 이루어진 손글씨 데이터셋입니다. 60,000개의 훈련 데이터와 레이블, 10,000개의 테스트 세트와 레이블로 구성되어있습니다. \n",
        " \n",
        " - 우선  mnist는 28x28픽셀의 이미지입니다. 총 784의 원소를 가지는 것입니다. \n",
        "\n",
        " "
      ],
      "metadata": {
        "id": "9UeMHN2V_Nqf"
      }
    },
    {
      "cell_type": "code",
      "execution_count": null,
      "metadata": {
        "id": "8X7hOqGm-XeW"
      },
      "outputs": [],
      "source": [
        "import torch\n",
        "import torchvision.datasets as dsets\n",
        "import torchvision.transforms as transforms\n",
        "from torch.utils.data import DataLoader\n",
        "import torch.nn as nn\n",
        "import matplotlib.pyplot as plt\n",
        "import random"
      ]
    },
    {
      "cell_type": "code",
      "source": [
        "USE_CUDA = torch.cuda.is_available() #GPU를 사용가능하면 true, 아니면 False 반환\n",
        "device = torch.device(\"cuda\" if USE_CUDA == True else 'cpu') #gpu사용가능하면 사용하고 아니라면 cpu사용\n",
        "print('다음 기기로 학습합니다.', device)\n",
        "# 이 방법은 자주 쓰이므로 기억해둘 것!!"
      ],
      "metadata": {
        "colab": {
          "base_uri": "https://localhost:8080/"
        },
        "id": "FUTZ_ICACHuz",
        "outputId": "e8d3cb70-09ec-4d71-e9ea-f870f31fc2ca"
      },
      "execution_count": null,
      "outputs": [
        {
          "output_type": "stream",
          "name": "stdout",
          "text": [
            "다음 기기로 학습합니다. cuda\n"
          ]
        }
      ]
    },
    {
      "cell_type": "code",
      "source": [
        "random.seed(777)\n",
        "torch.manual_seed(777)\n",
        "if device == 'cuda':\n",
        "  torch.cuda.manual_seed(777)\n",
        "#랜덤시드 설정 / gpu사용하는 경우 따로 지정해주어야 함."
      ],
      "metadata": {
        "id": "_uyFxpVsCwaI"
      },
      "execution_count": null,
      "outputs": []
    },
    {
      "cell_type": "code",
      "source": [
        "#하이퍼 파라미터\n",
        "training_epoch = 15\n",
        "batch_size=  100"
      ],
      "metadata": {
        "id": "CuwkFG7ADXmy"
      },
      "execution_count": null,
      "outputs": []
    },
    {
      "cell_type": "code",
      "source": [
        "mnist_train = dsets.MNIST(root = 'MNIST_data/',\n",
        "                          train = True,\n",
        "                          transform = transforms.ToTensor(),\n",
        "                          download = True)\n",
        "\n",
        "mnist_test = dsets.MNIST(root = 'MNIST_data/',\n",
        "                          train = False,\n",
        "                          transform = transforms.ToTensor(),\n",
        "                          download = True)\n",
        "# root : MNIST데이터를 다운로드 받을 경로\n",
        "# train : True인 경우, MNIST의 훈련데이터를 리턴받으며 Fasle 이면 테스트 데이터를 리턴받는다.\n",
        "# transform : 현재 데이터를 토치의 텐서로 변환해준다.\n",
        "# download : 해당경로에 MNIST가 없다면 다운받는다.\n",
        "\n",
        "#위의 방법으로 다운로드를 했다면 DataLoader를 사용할 수 있다."
      ],
      "metadata": {
        "id": "edIXw5AyDTpx"
      },
      "execution_count": null,
      "outputs": []
    },
    {
      "cell_type": "code",
      "source": [
        "data_loader = DataLoader(dataset = mnist_train, \n",
        "                         batch_size = batch_size,  # 100\n",
        "                         shuffle = True, #에포크마다 미니배치를 셔플할 것인지\n",
        "                         drop_last = True) #마지막 배치를 버릴 것인지에 대함. # 예를 들어 1000개의 데이터가 있고 배치사이즈가 128이라면 7개가 나오고 104개가 남는다\n",
        "                                                                                              # 이런경우 drop_last가 true라면 마지막 배치를 버린다. 이는 개수가 적은 마지막 배치를 사용하게 되어 \n",
        "                                                                                              # 상대적으로 마지막 배치에 과적합 되는 현상을 막아준다."
      ],
      "metadata": {
        "id": "-5eHlrShENfB"
      },
      "execution_count": null,
      "outputs": []
    },
    {
      "cell_type": "code",
      "source": [
        "linear = nn.Linear(784,10) #784크기의 이미지 데이터, 10개의 숫자로 분류하기 때문에 input_dim = 784, output_dim = 10"
      ],
      "metadata": {
        "id": "-uTqgbFBElau"
      },
      "execution_count": null,
      "outputs": []
    },
    {
      "cell_type": "code",
      "source": [
        "linear = nn.Linear(784,10, bias = True).to(device) #bias의 사용을 true로 설정하였고, to()함수는 연산을 수행할 장소를 정하는 것. cpu를 사용하면 쓸필요없지만, gpu사용 시에는 \n",
        "                                                              # .to('cuda') 라고 설정해주어야 한다. "
      ],
      "metadata": {
        "id": "h3frCkEUFqg3"
      },
      "execution_count": null,
      "outputs": []
    },
    {
      "cell_type": "code",
      "source": [
        "criterion = nn.CrossEntropyLoss().to(device) #이전 시간에 했던 것과 같이 내부에 소프트맥스를 포함하고 있다.\n",
        "optimizer = torch.optim.SGD(linear.parameters(), lr = 0.1) #옵티마이저 정의, (갱신할 매개변수, 학습률)"
      ],
      "metadata": {
        "id": "6M5by4iEGJ1N"
      },
      "execution_count": null,
      "outputs": []
    },
    {
      "cell_type": "code",
      "source": [
        "for epoch in range(training_epoch+1):\n",
        "  avg_cost = 0\n",
        "  total_batch = len(data_loader)\n",
        "\n",
        "  for X, Y in data_loader: #data_loader에 데이터와 라벨 형태로 저장되어있음.\n",
        "    #배치의 크기가 100이므로 아래의 연산에서 x는 크기가 (100,784)임\n",
        "    X = X.view(-1, 28*28).to(device) #(?, 724)형태로 변경함. (100,784)\n",
        "    Y = Y.to(device)\n",
        "\n",
        "    optimizer.zero_grad()\n",
        "    hypo = linear(X)\n",
        "    cost = criterion(hypo,Y)\n",
        "    cost.backward()\n",
        "    optimizer.step()\n",
        "\n",
        "    avg_cost += cost / total_batch #avgcost = avgcost+cost / totalbatch\n",
        "\n",
        "  print('Epoch : {0}, Cost : {1}'.format(epoch+1, avg_cost))\n",
        "print('learing finished') "
      ],
      "metadata": {
        "colab": {
          "base_uri": "https://localhost:8080/"
        },
        "id": "o1bOoSO3GkwG",
        "outputId": "5e2bbe74-e5f3-449f-9e71-cce584e37b4c"
      },
      "execution_count": null,
      "outputs": [
        {
          "output_type": "stream",
          "name": "stdout",
          "text": [
            "Epoch : 1, Cost : 0.2720909118652344\n",
            "Epoch : 2, Cost : 0.2706601321697235\n",
            "Epoch : 3, Cost : 0.2695513963699341\n",
            "Epoch : 4, Cost : 0.26852354407310486\n",
            "Epoch : 5, Cost : 0.2676045894622803\n",
            "Epoch : 6, Cost : 0.26643192768096924\n",
            "Epoch : 7, Cost : 0.26580220460891724\n",
            "Epoch : 8, Cost : 0.2649587392807007\n",
            "Epoch : 9, Cost : 0.2640630602836609\n",
            "Epoch : 10, Cost : 0.263250470161438\n",
            "Epoch : 11, Cost : 0.26280298829078674\n",
            "Epoch : 12, Cost : 0.26208752393722534\n",
            "Epoch : 13, Cost : 0.26112478971481323\n",
            "Epoch : 14, Cost : 0.260694295167923\n",
            "Epoch : 15, Cost : 0.2602613568305969\n",
            "Epoch : 16, Cost : 0.2596569061279297\n",
            "learing finished\n"
          ]
        }
      ]
    },
    {
      "cell_type": "code",
      "source": [
        "#학습된 모델로 테스트세트 평가하기\n",
        "with torch.no_grad(): #라고 하면 gradient 계산을 하지 않음\n",
        "  X_test = mnist_test.test_data.view(-1, 784).float().to(device)\n",
        "  Y_test = mnist_test.test_labels.to(device)\n",
        "\n",
        "  prediction = linear(X_test)\n",
        "  correct_prediction = torch.argmax(prediction, 1) == Y_test # torch.argmax(data, dim) dim을 기준으로 data에서 가장 큰 값의 인덱스를 텐서로 추출함.\n",
        "                                                                              #예를들어 [[4, 5, 6, 9, 8], 라면 dim =1 인 경우에 tensor([4, 4, 3]) 이 되는 것 \n",
        "                                                                              #             [1, 3, 4, 2, 6],\n",
        "                                                                              #             [1, 5, 6, 8, -2]]  \n",
        "                                                                              #(dim으로 보겠다는 거임. dim =1이면 열의 방향으로 보겠다는 거니까 같은 행 내에서의 최댓값의 인덱스가 되는것임.)\n",
        "  accuracy = correct_prediction.float().mean()\n",
        "  print(\"Accuray : \", accuracy.item())\n",
        "\n",
        "  #테스트세트에서 무작위로 1개 뽑아서 예측해보기\n",
        "  r = random.randint(0, len(mnist_test)-1)\n",
        "  X_single_data = mnist_test.test_data[r:r+1].view(-1,784).float().to(device)\n",
        "  Y_single_data = mnist_test.test_labels[r:r+1].to(device)\n",
        "\n",
        "  print('Label : ', Y_single_data.item())\n",
        "  single_predcition = linear(X_single_data)\n",
        "  print('Prediction :' , torch.argmax(single_predcition, 1).item())\n",
        "  plt.imshow(mnist_test.test_data[r:r+1].view(28,28), cmap = 'Greys', interpolation = 'nearest')\n",
        "  plt.show()\n"
      ],
      "metadata": {
        "colab": {
          "base_uri": "https://localhost:8080/",
          "height": 317
        },
        "id": "MApGbi6qJLc5",
        "outputId": "228094ce-b40e-4166-b653-3d4b123f91ae"
      },
      "execution_count": null,
      "outputs": [
        {
          "output_type": "stream",
          "name": "stdout",
          "text": [
            "Accuray :  0.8761000037193298\n",
            "Label :  3\n",
            "Prediction : 3\n"
          ]
        },
        {
          "output_type": "display_data",
          "data": {
            "text/plain": [
              "<Figure size 432x288 with 1 Axes>"
            ],
            "image/png": "[encoded data removed]"
          },
          "metadata": {
            "needs_background": "light"
          }
        }
      ]
    },
    {
      "cell_type": "code",
      "source": [],
      "metadata": {
        "colab": {
          "base_uri": "https://localhost:8080/"
        },
        "id": "YB6TkgZ3G32b",
        "outputId": "249565aa-5dbd-4f0e-a110-8272857c8b3b"
      },
      "execution_count": null,
      "outputs": [
        {
          "output_type": "stream",
          "name": "stdout",
          "text": [
            "<torch.utils.data.dataloader.DataLoader object at 0x7fceb5587d30>\n"
          ]
        }
      ]
    }
  ]
}