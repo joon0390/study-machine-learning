{
  "nbformat": 4,
  "nbformat_minor": 0,
  "metadata": {
    "colab": {
      "provenance": [],
      "authorship_tag": "ABX9TyMVfLIltwZmZOEaOas4ZpI+",
      "include_colab_link": true
    },
    "kernelspec": {
      "name": "python3",
      "display_name": "Python 3"
    },
    "language_info": {
      "name": "python"
    }
  },
  "cells": [
    {
      "cell_type": "markdown",
      "metadata": {
        "id": "view-in-github",
        "colab_type": "text"
      },
      "source": [
        "<a href=\"https://colab.research.google.com/github/kimgoinghard/study-machine-learning/blob/main/study_torch_14_digits_data.ipynb\" target=\"_parent\"><img src=\"https://colab.research.google.com/assets/colab-badge.svg\" alt=\"Open In Colab\"/></a>"
      ]
    },
    {
      "cell_type": "code",
      "execution_count": 4,
      "metadata": {
        "id": "vxF9tNHyPsz8"
      },
      "outputs": [],
      "source": [
        "%matplotlib inline\n",
        "import matplotlib.pyplot as plt\n",
        "from sklearn.datasets import load_digits\n",
        "digits = load_digits()"
      ]
    },
    {
      "cell_type": "code",
      "source": [
        "print(digits.images[0]) #0이 흰색, 0보다 큰 숫자가 검은색 ,숫자 0의 형태같음."
      ],
      "metadata": {
        "colab": {
          "base_uri": "https://localhost:8080/"
        },
        "id": "WMruyghhQEYS",
        "outputId": "ec19c4e5-9272-4474-aa65-c9aa07164885"
      },
      "execution_count": 7,
      "outputs": [
        {
          "output_type": "stream",
          "name": "stdout",
          "text": [
            "[[ 0.  0.  5. 13.  9.  1.  0.  0.]\n",
            " [ 0.  0. 13. 15. 10. 15.  5.  0.]\n",
            " [ 0.  3. 15.  2.  0. 11.  8.  0.]\n",
            " [ 0.  4. 12.  0.  0.  8.  8.  0.]\n",
            " [ 0.  5.  8.  0.  0.  9.  8.  0.]\n",
            " [ 0.  4. 11.  0.  1. 12.  7.  0.]\n",
            " [ 0.  2. 14.  5. 10. 12.  0.  0.]\n",
            " [ 0.  0.  6. 13. 10.  0.  0.  0.]]\n"
          ]
        }
      ]
    },
    {
      "cell_type": "code",
      "source": [
        "print(digits.target[0]) #0이었다."
      ],
      "metadata": {
        "colab": {
          "base_uri": "https://localhost:8080/"
        },
        "id": "w5OfDpe1Qdkj",
        "outputId": "008eafb2-8cfc-462e-99aa-93a8f062bd66"
      },
      "execution_count": 8,
      "outputs": [
        {
          "output_type": "stream",
          "name": "stdout",
          "text": [
            "0\n"
          ]
        }
      ]
    },
    {
      "cell_type": "code",
      "source": [
        "print(len(digits.images)) #총 데이터 갯수"
      ],
      "metadata": {
        "colab": {
          "base_uri": "https://localhost:8080/"
        },
        "id": "wzTYSzocQl8T",
        "outputId": "3e5eda60-2874-4ecc-f08f-b5c390e1d70a"
      },
      "execution_count": 9,
      "outputs": [
        {
          "output_type": "stream",
          "name": "stdout",
          "text": [
            "1797\n"
          ]
        }
      ]
    },
    {
      "cell_type": "code",
      "source": [
        "images_and_labels = list(zip(digits.images, digits.target)) #리스트로 짝지어주기\n",
        "for index, (image, label) in enumerate(images_and_labels[:5]):\n",
        "  plt.subplot(2,5, index+1) #2x5크기의 subplot생성\n",
        "  plt.axis('off') #테두리해제\n",
        "  plt.imshow(image,cmap =plt.cm.gray_r , interpolation = 'nearest') #cmap : 색깔표현, interpolation : 보간법(nearset가 가장 고해상도)\n",
        "  plt.title('sample : {0}'.format(label))\n"
      ],
      "metadata": {
        "colab": {
          "base_uri": "https://localhost:8080/",
          "height": 105
        },
        "id": "7_LyfTksQwqU",
        "outputId": "1bdb1b84-2301-4252-ea74-92bfd593679a"
      },
      "execution_count": 25,
      "outputs": [
        {
          "output_type": "display_data",
          "data": {
            "text/plain": [
              "<Figure size 432x288 with 5 Axes>"
            ],
            "image/png": "[encoded data removed]"
          },
          "metadata": {
            "needs_background": "light"
          }
        }
      ]
    },
    {
      "cell_type": "code",
      "source": [
        "for i in range(5):\n",
        "  print(i, '번 인덱스 샘플의 레이블 : ', digits.target[i])"
      ],
      "metadata": {
        "colab": {
          "base_uri": "https://localhost:8080/"
        },
        "id": "DdnX-zoWTDPU",
        "outputId": "f88fe351-13b5-4773-83df-b62b6d096c93"
      },
      "execution_count": 27,
      "outputs": [
        {
          "output_type": "stream",
          "name": "stdout",
          "text": [
            "0 번 인덱스 샘플의 레이블 :  0\n",
            "1 번 인덱스 샘플의 레이블 :  1\n",
            "2 번 인덱스 샘플의 레이블 :  2\n",
            "3 번 인덱스 샘플의 레이블 :  3\n",
            "4 번 인덱스 샘플의 레이블 :  4\n"
          ]
        }
      ]
    },
    {
      "cell_type": "code",
      "source": [
        "print(digits.data[0]) # .data : 8x8 행렬을 64차원 벡터로 변환"
      ],
      "metadata": {
        "colab": {
          "base_uri": "https://localhost:8080/"
        },
        "id": "lgplrjwTUO7l",
        "outputId": "26b58d5d-63a2-40d7-e172-9fe92d6d9461"
      },
      "execution_count": 28,
      "outputs": [
        {
          "output_type": "stream",
          "name": "stdout",
          "text": [
            "[ 0.  0.  5. 13.  9.  1.  0.  0.  0.  0. 13. 15. 10. 15.  5.  0.  0.  3.\n",
            " 15.  2.  0. 11.  8.  0.  0.  4. 12.  0.  0.  8.  8.  0.  0.  5.  8.  0.\n",
            "  0.  9.  8.  0.  0.  4. 11.  0.  1. 12.  7.  0.  0.  2. 14.  5. 10. 12.\n",
            "  0.  0.  0.  0.  6. 13. 10.  0.  0.  0.]\n"
          ]
        }
      ]
    },
    {
      "cell_type": "code",
      "source": [
        "X = digits.data #이미지, 64차원\n",
        "Y = digits.target #각 이미지에 대한 레이블 "
      ],
      "metadata": {
        "id": "KazidEHCUao5"
      },
      "execution_count": 30,
      "outputs": []
    },
    {
      "cell_type": "code",
      "source": [
        "import torch\n",
        "import torch.nn as nn\n",
        "from torch import optim"
      ],
      "metadata": {
        "id": "Fxmak9hVU1YU"
      },
      "execution_count": 31,
      "outputs": []
    },
    {
      "cell_type": "code",
      "source": [
        "model = nn.Sequential( \n",
        "    nn.Linear(64,32), #float32형 데이터에 대해 연산을 수행한다!  weight와 bias에 대해서 선형변환을 실시하는 역할\n",
        "    nn.ReLU(),\n",
        "    nn.Linear(32,16),\n",
        "    nn.ReLU(),\n",
        "    nn.Linear(16,10) #숫자 10개중에 한 개로 분류하기때문\n",
        ")\n",
        "#"
      ],
      "metadata": {
        "id": "u49kkFyhU-A8"
      },
      "execution_count": 37,
      "outputs": []
    },
    {
      "cell_type": "code",
      "source": [
        "X = torch.tensor(X, dtype = torch.float32) #실수형으로 저장\n",
        "Y = torch.tensor(Y, dtype = torch.int64) #int로 저장"
      ],
      "metadata": {
        "colab": {
          "base_uri": "https://localhost:8080/"
        },
        "id": "LsOHj_l8VVkz",
        "outputId": "5a406ffb-8016-4b02-bb63-ed14baa2cfd8"
      },
      "execution_count": 55,
      "outputs": [
        {
          "output_type": "stream",
          "name": "stderr",
          "text": [
            "<ipython-input-55-77e342af0039>:1: UserWarning: To copy construct from a tensor, it is recommended to use sourceTensor.clone().detach() or sourceTensor.clone().detach().requires_grad_(True), rather than torch.tensor(sourceTensor).\n",
            "  X = torch.tensor(X, dtype = torch.float32) #실수형으로 저장\n",
            "<ipython-input-55-77e342af0039>:2: UserWarning: To copy construct from a tensor, it is recommended to use sourceTensor.clone().detach() or sourceTensor.clone().detach().requires_grad_(True), rather than torch.tensor(sourceTensor).\n",
            "  Y = torch.tensor(Y, dtype = torch.int64) #int로 저장\n"
          ]
        }
      ]
    },
    {
      "cell_type": "code",
      "source": [
        "loss_f = nn.CrossEntropyLoss() # 손실함수 설정"
      ],
      "metadata": {
        "id": "0wdFreIfVgli"
      },
      "execution_count": 47,
      "outputs": []
    },
    {
      "cell_type": "code",
      "source": [
        " optimizer = optim.Adam(model.parameters()) #옵티마이저 설정 ADAM (적응형 모멘텀)"
      ],
      "metadata": {
        "id": "mYMFK5t4V2WY"
      },
      "execution_count": 41,
      "outputs": []
    },
    {
      "cell_type": "code",
      "source": [
        "losses = [] #손실 그래프를 그리기 위해 비어있는 리스트 선언"
      ],
      "metadata": {
        "id": "wKmHHo_xV9ck"
      },
      "execution_count": 43,
      "outputs": []
    },
    {
      "cell_type": "code",
      "source": [
        "for epoch in range(100):\n",
        "  optimizer.zero_grad() #매 반복마다 0으로 초기화\n",
        "  y_hat = model(X) #y_hat 계산\n",
        "  loss = loss_f(y_hat, Y) #loss계산\n",
        "  loss.backward() #역전파로 gradient 계산하여 매개변수 갱신\n",
        "  optimizer.step() # 매개변수 업데이트\n",
        "\n",
        "  if epoch % 10 == 0 :\n",
        "    print('Epoch : {0}/{1}, Cost : {2:6f}'.format(epoch,100, loss.item()))\n",
        "  losses.append(loss.item())"
      ],
      "metadata": {
        "colab": {
          "base_uri": "https://localhost:8080/"
        },
        "id": "QRSWa7MAWAIw",
        "outputId": "ad66c007-5550-4767-b2ab-ab84e4515a69"
      },
      "execution_count": 58,
      "outputs": [
        {
          "output_type": "stream",
          "name": "stdout",
          "text": [
            "Epoch : 0/100, Cost : 0.062084\n",
            "Epoch : 10/100, Cost : 0.056890\n",
            "Epoch : 20/100, Cost : 0.052240\n",
            "Epoch : 30/100, Cost : 0.048064\n",
            "Epoch : 40/100, Cost : 0.044296\n",
            "Epoch : 50/100, Cost : 0.040888\n",
            "Epoch : 60/100, Cost : 0.037758\n",
            "Epoch : 70/100, Cost : 0.034909\n",
            "Epoch : 80/100, Cost : 0.032325\n",
            "Epoch : 90/100, Cost : 0.029982\n"
          ]
        }
      ]
    },
    {
      "cell_type": "code",
      "source": [
        "plt.plot(losses)"
      ],
      "metadata": {
        "colab": {
          "base_uri": "https://localhost:8080/",
          "height": 282
        },
        "id": "oDuuWu5kXThf",
        "outputId": "d7d7e071-24af-430e-ce02-1acfe54cd92b"
      },
      "execution_count": 59,
      "outputs": [
        {
          "output_type": "execute_result",
          "data": {
            "text/plain": [
              "[<matplotlib.lines.Line2D at 0x7fca2ea12730>]"
            ]
          },
          "metadata": {},
          "execution_count": 59
        },
        {
          "output_type": "display_data",
          "data": {
            "text/plain": [
              "<Figure size 432x288 with 1 Axes>"
            ],
            "image/png": "[encoded data removed]"
          },
          "metadata": {
            "needs_background": "light"
          }
        }
      ]
    }
  ]
}