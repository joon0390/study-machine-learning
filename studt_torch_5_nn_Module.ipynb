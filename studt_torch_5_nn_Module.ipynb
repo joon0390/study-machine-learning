{
  "nbformat": 4,
  "nbformat_minor": 0,
  "metadata": {
    "colab": {
      "provenance": [],
      "authorship_tag": "ABX9TyODob1/5QQsNnwT2nktH4Gz",
      "include_colab_link": true
    },
    "kernelspec": {
      "name": "python3",
      "display_name": "Python 3"
    },
    "language_info": {
      "name": "python"
    }
  },
  "cells": [
    {
      "cell_type": "markdown",
      "metadata": {
        "id": "view-in-github",
        "colab_type": "text"
      },
      "source": [
        "<a href=\"https://colab.research.google.com/github/kimgoinghard/study-machine-learning/blob/main/studt_torch_5_nn_Module.ipynb\" target=\"_parent\"><img src=\"https://colab.research.google.com/assets/colab-badge.svg\" alt=\"Open In Colab\"/></a>"
      ]
    },
    {
      "cell_type": "code",
      "execution_count": 2,
      "metadata": {
        "id": "C-pjeLxhD-K_"
      },
      "outputs": [],
      "source": [
        "import torch\n",
        "import torch.nn as nn\n",
        "import torch.nn.functional as F"
      ]
    },
    {
      "cell_type": "code",
      "source": [
        "torch.manual_seed(1) #랜덤시드 설정"
      ],
      "metadata": {
        "colab": {
          "base_uri": "https://localhost:8080/"
        },
        "id": "L7PpWAcUEfB7",
        "outputId": "05a1bd39-79c1-4511-8ad9-f9a689988edc"
      },
      "execution_count": 3,
      "outputs": [
        {
          "output_type": "execute_result",
          "data": {
            "text/plain": [
              "<torch._C.Generator at 0x7f79bc9161d0>"
            ]
          },
          "metadata": {},
          "execution_count": 3
        }
      ]
    },
    {
      "cell_type": "code",
      "source": [
        "x_train = torch.FloatTensor([[1], [2], [3]])\n",
        "y_train = torch.FloatTensor([[2], [4], [6]])"
      ],
      "metadata": {
        "id": "5Jx78lXbEktP"
      },
      "execution_count": 4,
      "outputs": []
    },
    {
      "cell_type": "code",
      "source": [
        "model = nn.Linear(1,1) #nn.Linear()는 입력, 출력의 차원을 인수로 받는다."
      ],
      "metadata": {
        "id": "rZhPpxpbE7fw"
      },
      "execution_count": 5,
      "outputs": []
    },
    {
      "cell_type": "code",
      "source": [
        "print(list(model.parameters())) #랜덤으로 초기화되어있는 모습. 학습해야 할 매개변수 이므로 requires_grad = True인 모습."
      ],
      "metadata": {
        "colab": {
          "base_uri": "https://localhost:8080/"
        },
        "id": "ljuAPSksFGmT",
        "outputId": "322a4f20-1dc5-491d-ed9c-5834b0e176ef"
      },
      "execution_count": 6,
      "outputs": [
        {
          "output_type": "stream",
          "name": "stdout",
          "text": [
            "[Parameter containing:\n",
            "tensor([[0.5153]], requires_grad=True), Parameter containing:\n",
            "tensor([-0.4414], requires_grad=True)]\n"
          ]
        }
      ]
    },
    {
      "cell_type": "code",
      "source": [
        "optimizer = torch.optim.SGD(model.parameters(), lr = 0.01) #model.parameters() 를 통해서 매개변수를 전달"
      ],
      "metadata": {
        "id": "YoAokPL4FZRi"
      },
      "execution_count": 8,
      "outputs": []
    },
    {
      "cell_type": "code",
      "source": [
        "nb_epochs = 2000\n",
        "for epoch in range(nb_epochs+1):\n",
        "\n",
        "    # H(x) 계산\n",
        "    prediction = model(x_train) #model은 nn.Linear객체\n",
        "\n",
        "    # cost 계산\n",
        "    cost = F.mse_loss(prediction, y_train) # <== 파이토치에서 제공하는 평균 제곱 오차 함수\n",
        "\n",
        "    # cost로 H(x) 개선하는 부분\n",
        "    # gradient를 0으로 초기화\n",
        "    optimizer.zero_grad()\n",
        "    # 비용 함수를 미분하여 gradient 계산\n",
        "    cost.backward() # backward 연산\n",
        "    # W와 b를 업데이트\n",
        "    optimizer.step()\n",
        "\n",
        "    if epoch % 100 == 0:\n",
        "    # 100번마다 로그 출력\n",
        "      print('Epoch {:4d}/{} Cost: {:.6f}'.format(\n",
        "          epoch, nb_epochs, cost.item()\n",
        "      ))"
      ],
      "metadata": {
        "colab": {
          "base_uri": "https://localhost:8080/"
        },
        "id": "PbpnQokvFrvL",
        "outputId": "53696ab8-42ea-45ff-8d6c-0e4231cc34a9"
      },
      "execution_count": 9,
      "outputs": [
        {
          "output_type": "stream",
          "name": "stdout",
          "text": [
            "Epoch    0/2000 Cost: 13.103541\n",
            "Epoch  100/2000 Cost: 0.002791\n",
            "Epoch  200/2000 Cost: 0.001724\n",
            "Epoch  300/2000 Cost: 0.001066\n",
            "Epoch  400/2000 Cost: 0.000658\n",
            "Epoch  500/2000 Cost: 0.000407\n",
            "Epoch  600/2000 Cost: 0.000251\n",
            "Epoch  700/2000 Cost: 0.000155\n",
            "Epoch  800/2000 Cost: 0.000096\n",
            "Epoch  900/2000 Cost: 0.000059\n",
            "Epoch 1000/2000 Cost: 0.000037\n",
            "Epoch 1100/2000 Cost: 0.000023\n",
            "Epoch 1200/2000 Cost: 0.000014\n",
            "Epoch 1300/2000 Cost: 0.000009\n",
            "Epoch 1400/2000 Cost: 0.000005\n",
            "Epoch 1500/2000 Cost: 0.000003\n",
            "Epoch 1600/2000 Cost: 0.000002\n",
            "Epoch 1700/2000 Cost: 0.000001\n",
            "Epoch 1800/2000 Cost: 0.000001\n",
            "Epoch 1900/2000 Cost: 0.000000\n",
            "Epoch 2000/2000 Cost: 0.000000\n"
          ]
        }
      ]
    },
    {
      "cell_type": "code",
      "source": [
        "new_var = torch.FloatTensor([[4.0]])\n",
        "pred_y = model(new_var)\n",
        "print(pred_y)"
      ],
      "metadata": {
        "colab": {
          "base_uri": "https://localhost:8080/"
        },
        "id": "D4CEHvsAF_EF",
        "outputId": "ba2a64f8-4056-41dc-ebf3-6a971dd10c54"
      },
      "execution_count": 15,
      "outputs": [
        {
          "output_type": "stream",
          "name": "stdout",
          "text": [
            "tensor([[7.9989]], grad_fn=<AddmmBackward0>)\n"
          ]
        }
      ]
    },
    {
      "cell_type": "code",
      "source": [
        "print(list(model.parameters())) #W = 2, b = 0으로 매개변수가 학습되었다. "
      ],
      "metadata": {
        "colab": {
          "base_uri": "https://localhost:8080/"
        },
        "id": "ySwPY0fkGSTq",
        "outputId": "a08db468-4fd5-4b9d-bbfb-cfc869beaf86"
      },
      "execution_count": 16,
      "outputs": [
        {
          "output_type": "stream",
          "name": "stdout",
          "text": [
            "[Parameter containing:\n",
            "tensor([[1.9994]], requires_grad=True), Parameter containing:\n",
            "tensor([0.0014], requires_grad=True)]\n"
          ]
        }
      ]
    },
    {
      "cell_type": "code",
      "source": [
        "x_train = torch.FloatTensor([[73, 80, 75],\n",
        "                             [93, 88, 93],\n",
        "                             [89, 91, 90],\n",
        "                             [96, 98, 100],\n",
        "                             [73, 66, 70]])\n",
        "y_train = torch.FloatTensor([[152], [185], [180], [196], [142]])\n",
        "print(x_train.shape)"
      ],
      "metadata": {
        "colab": {
          "base_uri": "https://localhost:8080/"
        },
        "id": "Mja-IzhFGb8K",
        "outputId": "62551742-ede7-4862-a638-6435739d7e27"
      },
      "execution_count": 19,
      "outputs": [
        {
          "output_type": "stream",
          "name": "stdout",
          "text": [
            "torch.Size([5, 3])\n"
          ]
        }
      ]
    },
    {
      "cell_type": "code",
      "source": [
        "model = nn.Linear(3,1) #다중선형회귀 진행 시 x*%*W + b 이고, x의 차원이 5x3 이므로 w는 3x1"
      ],
      "metadata": {
        "id": "qXafaAr1GjzS"
      },
      "execution_count": 20,
      "outputs": []
    },
    {
      "cell_type": "code",
      "source": [
        "print(list(model.parameters()))"
      ],
      "metadata": {
        "colab": {
          "base_uri": "https://localhost:8080/"
        },
        "id": "z-FaE3DpHGcj",
        "outputId": "5f3e691d-2aea-4805-ea66-35186f59d80b"
      },
      "execution_count": 22,
      "outputs": [
        {
          "output_type": "stream",
          "name": "stdout",
          "text": [
            "[Parameter containing:\n",
            "tensor([[-0.1188,  0.2937,  0.0803]], requires_grad=True), Parameter containing:\n",
            "tensor([-0.0707], requires_grad=True)]\n"
          ]
        }
      ]
    },
    {
      "cell_type": "code",
      "source": [
        "optimizer = torch.optim.SGD(model.parameters(), lr = 1e-5) #lr = 0.01로 해본 결과 기울기가 발산하게 됨."
      ],
      "metadata": {
        "id": "UjfXQPuzHOU7"
      },
      "execution_count": 23,
      "outputs": []
    },
    {
      "cell_type": "code",
      "source": [
        "n_epoch = 2000\n",
        "for epoch in range(n_epoch+1):\n",
        "  \n",
        "  #y_hat 계산\n",
        "  prediction = model(x_train)\n",
        "\n",
        "  #비용함수 정의\n",
        "  cost = F.mse_loss(prediction, y_train) #평균제곱오차함수\n",
        "\n",
        "  optimizer.zero_grad() #0으로 초기화\n",
        "\n",
        "  cost.backward() #비용함수 미분해 기울기 계산\n",
        "\n",
        "  optimizer.step() #매개변수 갱신\n",
        "\n",
        "  if epoch%100 ==0:\n",
        "    print('Epoch : {0} / {1}  Cost : {2:.6f}'.format(epoch, n_epoch,cost.item()))"
      ],
      "metadata": {
        "colab": {
          "base_uri": "https://localhost:8080/"
        },
        "id": "AQJlu2BcHWxz",
        "outputId": "7af987ef-6111-420d-901c-7c6d6f97a91e"
      },
      "execution_count": 28,
      "outputs": [
        {
          "output_type": "stream",
          "name": "stdout",
          "text": [
            "Epoch : 0 / 2000  Cost : 0.515876\n",
            "Epoch : 100 / 2000  Cost : 0.505210\n",
            "Epoch : 200 / 2000  Cost : 0.495069\n",
            "Epoch : 300 / 2000  Cost : 0.485425\n",
            "Epoch : 400 / 2000  Cost : 0.476255\n",
            "Epoch : 500 / 2000  Cost : 0.467531\n",
            "Epoch : 600 / 2000  Cost : 0.459224\n",
            "Epoch : 700 / 2000  Cost : 0.451330\n",
            "Epoch : 800 / 2000  Cost : 0.443804\n",
            "Epoch : 900 / 2000  Cost : 0.436651\n",
            "Epoch : 1000 / 2000  Cost : 0.429832\n",
            "Epoch : 1100 / 2000  Cost : 0.423336\n",
            "Epoch : 1200 / 2000  Cost : 0.417150\n",
            "Epoch : 1300 / 2000  Cost : 0.411262\n",
            "Epoch : 1400 / 2000  Cost : 0.405632\n",
            "Epoch : 1500 / 2000  Cost : 0.400277\n",
            "Epoch : 1600 / 2000  Cost : 0.395171\n",
            "Epoch : 1700 / 2000  Cost : 0.390292\n",
            "Epoch : 1800 / 2000  Cost : 0.385643\n",
            "Epoch : 1900 / 2000  Cost : 0.381191\n",
            "Epoch : 2000 / 2000  Cost : 0.376956\n"
          ]
        }
      ]
    },
    {
      "cell_type": "code",
      "source": [
        "new_var =  torch.FloatTensor([[73, 80, 75]]) \n",
        "pred_y = model(new_var) \n",
        "print(\"훈련 후 입력이 73, 80, 75일 때의 예측값 :\", pred_y)  #실제값이 152였음"
      ],
      "metadata": {
        "colab": {
          "base_uri": "https://localhost:8080/"
        },
        "id": "2h5qO9BxIuL6",
        "outputId": "3ad27ae0-a1d4-4b2a-9d3d-ef71326ac7e7"
      },
      "execution_count": 30,
      "outputs": [
        {
          "output_type": "stream",
          "name": "stdout",
          "text": [
            "훈련 후 입력이 73, 80, 75일 때의 예측값 : tensor([[151.5478]], grad_fn=<AddmmBackward0>)\n"
          ]
        }
      ]
    },
    {
      "cell_type": "code",
      "source": [
        "print(list(model.parameters()))"
      ],
      "metadata": {
        "colab": {
          "base_uri": "https://localhost:8080/"
        },
        "id": "LRnJ6_iBJIYW",
        "outputId": "fd04676b-d012-4342-a6a4-e1b8464ae947"
      },
      "execution_count": 34,
      "outputs": [
        {
          "output_type": "stream",
          "name": "stdout",
          "text": [
            "[Parameter containing:\n",
            "tensor([[0.8304, 0.4868, 0.6938]], requires_grad=True), Parameter containing:\n",
            "tensor([-0.0520], requires_grad=True)]\n"
          ]
        }
      ]
    }
  ]
}