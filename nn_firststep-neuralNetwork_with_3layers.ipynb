{
  "nbformat": 4,
  "nbformat_minor": 0,
  "metadata": {
    "colab": {
      "provenance": [],
      "authorship_tag": "ABX9TyMWsVeCfzzeh5KvtqIk5+K5",
      "include_colab_link": true
    },
    "kernelspec": {
      "name": "python3",
      "display_name": "Python 3"
    },
    "language_info": {
      "name": "python"
    }
  },
  "cells": [
    {
      "cell_type": "markdown",
      "metadata": {
        "id": "view-in-github",
        "colab_type": "text"
      },
      "source": [
        "<a href=\"https://colab.research.google.com/github/kimgoinghard/study-machine-learning/blob/main/nn_firststep-neuralNetwork_with_3layers.ipynb\" target=\"_parent\"><img src=\"https://colab.research.google.com/assets/colab-badge.svg\" alt=\"Open In Colab\"/></a>"
      ]
    },
    {
      "cell_type": "code",
      "execution_count": 38,
      "metadata": {
        "colab": {
          "base_uri": "https://localhost:8080/"
        },
        "id": "0iWuIueVVSM2",
        "outputId": "c61af714-545f-4895-c39b-f509309f2d11"
      },
      "outputs": [
        {
          "output_type": "execute_result",
          "data": {
            "text/plain": [
              "array([[0.33399785],\n",
              "       [0.4580929 ],\n",
              "       [0.76094916]])"
            ]
          },
          "metadata": {},
          "execution_count": 38
        }
      ],
      "source": [
        "import numpy as np\n",
        "import scipy.special\n",
        " \n",
        "class neuralNetwork:\n",
        "  def __init__(self, inputnodes, hiddennodes, outputnodes, learingrate):\n",
        "    self.inodes = inputnodes\n",
        "    self.hnodes = hiddennodes\n",
        "    self.onodes = outputnodes\n",
        "\n",
        "    self.lr = learingrate\n",
        "    \n",
        "    #self.wih = (np.random.rand(self.hnodes,self.inodes)-0.5) #입력-은닉 가중치 행렬 생성(단순 무작위 방법)\n",
        "    #self.who = (np.random.rand(self.onodes,self.hnodes)-0.5) #은닉-출력 가중치 행렬 생성(단순 무작위 방법)\n",
        "\n",
        "    self.wih = np.random.normal(0.0, pow(self.hnodes, -0.5),(self.hnodes, self.inodes)) #(평균, 표준편차, 행렬크기) 표준편차를 연결노드의 개수에 루트씌우고 역수취한값으로 함.\n",
        "    self.who = np.random.normal(0.0, pow(self.onodes, -0.5),(self.onodes, self.hnodes))\n",
        "\n",
        "    self.activation = lambda x : scipy.special.expit(x) #함수의 이름이 없어서 Anonymous funtion 이라고 부름.\n",
        "\n",
        "  def train(self, inputs_list, target_list):\n",
        "    \n",
        "    #입력 리스트와 타겟을 2차원 행렬로 변환\n",
        "    input = np.array(inputs_list, ndmin=2).T\n",
        "    target = np.array(target_list, ndmin =2).T\n",
        "\n",
        "    #은닉층에 들어오는 신호 계산\n",
        "    hidden_input = np.dot(self.wio, input)\n",
        "    #은닉층에서 나가는 신호 계산\n",
        "    hidden_output = self.activation(hidden_input)\n",
        "    #최종 출력층으로 들어오는 신호계산\n",
        "    fianl_input = np.dot(self.woh, hidden_output)\n",
        "    #최종 출력 신호 계산\n",
        "    final_output = self.activation(fianl_input)\n",
        "\n",
        "    #오차계산\n",
        "    output_error = target -final_output\n",
        "    #은닉층 오차 계산.     Error_hidden = W_hidden,ouput  X  Error_output\n",
        "    hidden_error = np.dot(self.woh.T, output_error)\n",
        "    \n",
        "    #은닉층과 출력층의 가중치 매개변수 갱신\n",
        "    self.who += self.lr*numpy.dot((output_error*final_output*(1-final_output)), np.transpose(hidden_output))\n",
        "\n",
        "    #은닉층과 입력층의 가중치 업데이트\n",
        "    self.wih += self.lr*np.dot((hidden_error*hidden_input*(1-hidden_input)), np.transpose(inputs))\n",
        "\n",
        "    \n",
        "\n",
        "\n",
        "\n",
        "  #질의\n",
        "  def query(self, input_list):\n",
        "    inputs = np.array(input_list, ndmin = 2).T #입력리스트를 2차원 넘파이 배열로 변환\n",
        "    hidden_input = np.dot(self.wih, inputs)\n",
        "    hidden_output =self.activation(hidden_input)\n",
        "    \n",
        "    final_input = np.dot(self.who, hidden_output)\n",
        "    final_output = self.activation(final_input)\n",
        "\n",
        "    return final_output\n",
        "\n",
        "#하이퍼파라미터 생성\n",
        "input_nodes = 3\n",
        "output_nodes = 3\n",
        "hidden_nodes = 3\n",
        "learing_rate = 0.3\n",
        "\n",
        "#신경망 객체 생성\n",
        "n = neuralNetwork(input_nodes, hidden_nodes, output_nodes, learing_rate) \n",
        "\n",
        "#np.random.rand(3,3)-0.5  # (0,1)의 정규분포에서 3x3의 행렬을 생성하고 0.5를 브로드캐스팅을 이용해 빼주어 (-0.5, 0.5)사이의 값을 가지도록 할 수 있다. \n",
        "n.query([1.0, -.5 ,2.0])\n"
      ]
    }
  ]
}