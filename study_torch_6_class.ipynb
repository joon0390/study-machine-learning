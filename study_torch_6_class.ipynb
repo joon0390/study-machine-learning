{
  "nbformat": 4,
  "nbformat_minor": 0,
  "metadata": {
    "colab": {
      "provenance": [],
      "authorship_tag": "ABX9TyPvSBVQkHmXxo00wfkCDPPS",
      "include_colab_link": true
    },
    "kernelspec": {
      "name": "python3",
      "display_name": "Python 3"
    },
    "language_info": {
      "name": "python"
    }
  },
  "cells": [
    {
      "cell_type": "markdown",
      "metadata": {
        "id": "view-in-github",
        "colab_type": "text"
      },
      "source": [
        "<a href=\"https://colab.research.google.com/github/kimgoinghard/study-machine-learning/blob/main/study_torch_6_class.ipynb\" target=\"_parent\"><img src=\"https://colab.research.google.com/assets/colab-badge.svg\" alt=\"Open In Colab\"/></a>"
      ]
    },
    {
      "cell_type": "code",
      "execution_count": 2,
      "metadata": {
        "id": "5z_cJcVqRzhk"
      },
      "outputs": [],
      "source": [
        "import torch\n",
        "import torch.nn as nn"
      ]
    },
    {
      "cell_type": "code",
      "source": [
        "model = nn.Linear(1,1) # 파이토치에 내장된 선형회귀모델"
      ],
      "metadata": {
        "id": "xax-iW1BSZfv"
      },
      "execution_count": 17,
      "outputs": []
    },
    {
      "cell_type": "code",
      "source": [
        "class LinearRegressionModel(nn.Module): # torch.nn.Module을 상속받는 파이썬 클래스임. -> super().__init__()\n",
        "    def __init__(self): #\n",
        "        super().__init__()\n",
        "        self.linear = nn.Linear(1, 1) # 단순 선형 회귀이므로 input_dim=1, output_dim=1.\n",
        "\n",
        "    def forward(self, x):\n",
        "        return self.linear(x)"
      ],
      "metadata": {
        "id": "H-PSDy74SiEf"
      },
      "execution_count": 6,
      "outputs": []
    },
    {
      "cell_type": "markdown",
      "source": [
        "클래스(class) 형태의 모델은 nn.Module 을 상속받는다. 그리고 __init__()에서 모델의 구조와 동작을 정의하는 생성자를 정의한다. 이는 파이썬에서 객체가 갖는 속성값을 초기화하는 역할로, 객체가 생성될 때 자동으로 호출된다. super() 함수를 부르면 여기서 만든 클래스는 nn.Module 클래스의 속성들을 가지고 초기화 되는 것이다. foward() 함수는 모델이 학습데이터를 입력받아서 forward 연산을 진행시키는 함수이다. forward() 함수는 model 객체를 데이터와 함께 호출하면 자동으로 실행된다. 예를 들어 model이란 이름의 객체를 생성 후, model(입력 데이터)와 같은 형식으로 객체를 호출하면 자동으로 forward 연산이 수행된다.\n",
        "\n"
      ],
      "metadata": {
        "id": "UlfQGmKUUgwK"
      }
    },
    {
      "cell_type": "code",
      "source": [
        "model = LinearRegressionModel()"
      ],
      "metadata": {
        "id": "enFOn0AxTsLy"
      },
      "execution_count": 7,
      "outputs": []
    },
    {
      "cell_type": "code",
      "source": [
        "class MulttiRegressionModel(nn.Module):\n",
        "  def __init__(self):\n",
        "    super().__init__()\n",
        "    self.linear = nn.linear(3,1)\n",
        "\n",
        "    def forward(self, x):\n",
        "      return self.linear(x)"
      ],
      "metadata": {
        "id": "7e_ZNqzhTyG_"
      },
      "execution_count": 9,
      "outputs": []
    },
    {
      "cell_type": "code",
      "source": [
        "import torch\n",
        "import torch.nn as nn\n",
        "import torch.nn.functional as F"
      ],
      "metadata": {
        "id": "rnncKM6LU1H9"
      },
      "execution_count": 10,
      "outputs": []
    },
    {
      "cell_type": "code",
      "source": [
        "torch.manual_seed(1)"
      ],
      "metadata": {
        "colab": {
          "base_uri": "https://localhost:8080/"
        },
        "id": "-Ohe1gduVH21",
        "outputId": "b47ef58e-32c9-4e1e-92cf-8845288c4623"
      },
      "execution_count": 11,
      "outputs": [
        {
          "output_type": "execute_result",
          "data": {
            "text/plain": [
              "<torch._C.Generator at 0x7fe1bcd3a3b0>"
            ]
          },
          "metadata": {},
          "execution_count": 11
        }
      ]
    },
    {
      "cell_type": "code",
      "source": [
        "x_train = torch.FloatTensor([[1], [2], [3]])\n",
        "y_train = torch.FloatTensor([[2], [4], [6]])"
      ],
      "metadata": {
        "id": "-n_Eo6CEVNga"
      },
      "execution_count": 12,
      "outputs": []
    },
    {
      "cell_type": "code",
      "source": [
        "class LinearRegressionModel(nn.Module):\n",
        "  def __init__(self):\n",
        "    super().__init__()\n",
        "    self.linear = nn.Linear(1,1)\n",
        "\n",
        "  def forward(self, x):\n",
        "    return self.linear(x)    "
      ],
      "metadata": {
        "id": "vfyErmHCVTn0"
      },
      "execution_count": 16,
      "outputs": []
    },
    {
      "cell_type": "code",
      "source": [
        "model = LinearRegressionModel()\n",
        "optimizer = torch.optim.SGD(model.parameters(), lr = 0.01)"
      ],
      "metadata": {
        "id": "h3IJINAFWf-i"
      },
      "execution_count": 20,
      "outputs": []
    },
    {
      "cell_type": "code",
      "source": [
        "n_epoch = 2000\n",
        "for epoch in range(n_epoch+1):\n",
        "  prediction = model(x_train)\n",
        "  \n",
        "  cost = F.mse_loss(prediction, y_train)\n",
        "\n",
        "  optimizer.zero_grad( )#0으로 초기화\n",
        "  cost.backward() #비용함수 미분하여 매개변수 기울기 계산\n",
        "  optimizer.step() #매개변수 갱신\n",
        "\n",
        "  if epoch%100 == 0:\n",
        "    print('Epoch : {0}, Cost : {1})'.format(epoch, cost.item()))"
      ],
      "metadata": {
        "colab": {
          "base_uri": "https://localhost:8080/"
        },
        "id": "TLbq6o-KWzz2",
        "outputId": "2a7a3e2e-e921-4881-90f2-e3d617bac212"
      },
      "execution_count": 25,
      "outputs": [
        {
          "output_type": "stream",
          "name": "stdout",
          "text": [
            "Epoch : 0, Cost : 1.4242395991459489e-05)\n",
            "Epoch : 100, Cost : 8.80158768268302e-06)\n",
            "Epoch : 200, Cost : 5.439263532025507e-06)\n",
            "Epoch : 300, Cost : 3.361327799211722e-06)\n",
            "Epoch : 400, Cost : 2.0773477444890887e-06)\n",
            "Epoch : 500, Cost : 1.2836559335482889e-06)\n",
            "Epoch : 600, Cost : 7.936822044030123e-07)\n",
            "Epoch : 700, Cost : 4.905465971205558e-07)\n",
            "Epoch : 800, Cost : 3.034157884940214e-07)\n",
            "Epoch : 900, Cost : 1.8754532504772214e-07)\n",
            "Epoch : 1000, Cost : 1.1618772077781614e-07)\n",
            "Epoch : 1100, Cost : 7.18224342222129e-08)\n",
            "Epoch : 1200, Cost : 4.44900756235711e-08)\n",
            "Epoch : 1300, Cost : 2.7575518757316786e-08)\n",
            "Epoch : 1400, Cost : 1.709859454024354e-08)\n",
            "Epoch : 1500, Cost : 1.0549399576120777e-08)\n",
            "Epoch : 1600, Cost : 6.58657972607557e-09)\n",
            "Epoch : 1700, Cost : 4.0258023581429825e-09)\n",
            "Epoch : 1800, Cost : 2.526121534174308e-09)\n",
            "Epoch : 1900, Cost : 1.5892851479293313e-09)\n",
            "Epoch : 2000, Cost : 9.6021801621049e-10)\n"
          ]
        }
      ]
    },
    {
      "cell_type": "code",
      "source": [
        "x_train = torch.FloatTensor([[73, 80, 75],\n",
        "                             [93, 88, 93],\n",
        "                             [89, 91, 90],\n",
        "                             [96, 98, 100],\n",
        "                             [73, 66, 70]])\n",
        "y_train = torch.FloatTensor([[152], [185], [180], [196], [142]])"
      ],
      "metadata": {
        "id": "55s7oW8LYf8X"
      },
      "execution_count": 26,
      "outputs": []
    },
    {
      "cell_type": "code",
      "source": [
        "class MultivariateLinearRegressionModel(nn.Module):\n",
        "  def __init__(self):\n",
        "    super().__init__()\n",
        "    self.linear = nn.Linear(3,1)\n",
        "\n",
        "  def forward(self,x):\n",
        "    return self.linear(x)"
      ],
      "metadata": {
        "id": "djrWPF7fYg0u"
      },
      "execution_count": 50,
      "outputs": []
    },
    {
      "cell_type": "code",
      "source": [
        "model = MultivariateLinearRegressionModel()"
      ],
      "metadata": {
        "id": "UBVkKcPWY844"
      },
      "execution_count": 49,
      "outputs": []
    },
    {
      "cell_type": "code",
      "source": [
        "optimizer = torch.optim.SGD(model.parameters(), lr= 1e-5)"
      ],
      "metadata": {
        "id": "17gtYvdgZF5c"
      },
      "execution_count": 51,
      "outputs": []
    },
    {
      "cell_type": "code",
      "source": [
        "n_epoch = 2000\n",
        "for epoch in range(n_epoch+1):\n",
        "\n",
        "  prediction = model(x_train)\n",
        "\n",
        "  cost = F.mse_loss(prediction, y_train)\n",
        "\n",
        "  optimizer.zero_grad() \n",
        "  cost.backward()\n",
        "  optimizer.step()\n",
        "\n",
        "  if epoch%100 == 0:\n",
        "    print('Epoch : {0}, Cost : {1}'.format(epoch, cost.item()))  \n"
      ],
      "metadata": {
        "colab": {
          "base_uri": "https://localhost:8080/"
        },
        "id": "yzNbBUbCZQCR",
        "outputId": "d1dda8a0-c501-4f58-d1e9-a3ca3d47583f"
      },
      "execution_count": 52,
      "outputs": [
        {
          "output_type": "stream",
          "name": "stdout",
          "text": [
            "Epoch : 0, Cost : 31362.458984375\n",
            "Epoch : 100, Cost : 0.2674188017845154\n",
            "Epoch : 200, Cost : 0.2668233811855316\n",
            "Epoch : 300, Cost : 0.26623860001564026\n",
            "Epoch : 400, Cost : 0.2656509280204773\n",
            "Epoch : 500, Cost : 0.26508602499961853\n",
            "Epoch : 600, Cost : 0.26452380418777466\n",
            "Epoch : 700, Cost : 0.2639617323875427\n",
            "Epoch : 800, Cost : 0.2634115219116211\n",
            "Epoch : 900, Cost : 0.2628709375858307\n",
            "Epoch : 1000, Cost : 0.26233726739883423\n",
            "Epoch : 1100, Cost : 0.2618081867694855\n",
            "Epoch : 1200, Cost : 0.26128512620925903\n",
            "Epoch : 1300, Cost : 0.2607727646827698\n",
            "Epoch : 1400, Cost : 0.26026013493537903\n",
            "Epoch : 1500, Cost : 0.25975483655929565\n",
            "Epoch : 1600, Cost : 0.2592504620552063\n",
            "Epoch : 1700, Cost : 0.2587617337703705\n",
            "Epoch : 1800, Cost : 0.2582694888114929\n",
            "Epoch : 1900, Cost : 0.25777724385261536\n",
            "Epoch : 2000, Cost : 0.25730594992637634\n"
          ]
        }
      ]
    }
  ]
}