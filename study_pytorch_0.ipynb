{
  "nbformat": 4,
  "nbformat_minor": 0,
  "metadata": {
    "colab": {
      "provenance": [],
      "mount_file_id": "1MpKT_P5SEYCpi0_5_E37_GWON4A51q-Y",
      "authorship_tag": "ABX9TyPsaXMdfd5v9mEawDWJZvOQ",
      "include_colab_link": true
    },
    "kernelspec": {
      "name": "python3",
      "display_name": "Python 3"
    },
    "language_info": {
      "name": "python"
    }
  },
  "cells": [
    {
      "cell_type": "markdown",
      "metadata": {
        "id": "view-in-github",
        "colab_type": "text"
      },
      "source": [
        "<a href=\"https://colab.research.google.com/github/kimgoinghard/study-machine-learning/blob/main/study_pytorch_0.ipynb\" target=\"_parent\"><img src=\"https://colab.research.google.com/assets/colab-badge.svg\" alt=\"Open In Colab\"/></a>"
      ]
    },
    {
      "cell_type": "code",
      "source": [
        "import numpy as np"
      ],
      "metadata": {
        "id": "3I3lTcofbTD5"
      },
      "execution_count": null,
      "outputs": []
    },
    {
      "cell_type": "code",
      "source": [
        "t = np.array([0., 1., 2., 3., 4., 5., 6.])\n",
        "print(t)"
      ],
      "metadata": {
        "colab": {
          "base_uri": "https://localhost:8080/"
        },
        "id": "768JY2EGbvoO",
        "outputId": "0a28627f-2fe1-44f6-f3ba-fdf1077dce4f"
      },
      "execution_count": 17,
      "outputs": [
        {
          "output_type": "stream",
          "name": "stdout",
          "text": [
            "[0. 1. 2. 3. 4. 5. 6.]\n"
          ]
        }
      ]
    },
    {
      "cell_type": "code",
      "source": [
        "print('Rank of t : ', t.ndim)\n",
        "print('Shape of t : ', t.shape)"
      ],
      "metadata": {
        "colab": {
          "base_uri": "https://localhost:8080/"
        },
        "id": "Ssnce6pQb234",
        "outputId": "d6209826-8df4-4e17-be21-f8b9b336a4dc"
      },
      "execution_count": 20,
      "outputs": [
        {
          "output_type": "stream",
          "name": "stdout",
          "text": [
            "Rank of t :  1\n",
            "Shape of t :  (7,)\n"
          ]
        }
      ]
    },
    {
      "cell_type": "code",
      "source": [
        "t = np.array([[1., 2., 3.],\n",
        "              [4., 5., 6.],\n",
        "              [7., 8., 9. ],\n",
        "              [10., 11., 12.]\n",
        "              ])\n",
        "print(t)"
      ],
      "metadata": {
        "colab": {
          "base_uri": "https://localhost:8080/"
        },
        "id": "p2RT15iachWt",
        "outputId": "43eb40fc-9676-4f6f-ff06-c7eeb687d9cd"
      },
      "execution_count": 22,
      "outputs": [
        {
          "output_type": "stream",
          "name": "stdout",
          "text": [
            "[[ 1.  2.  3.]\n",
            " [ 4.  5.  6.]\n",
            " [ 7.  8.  9.]\n",
            " [10. 11. 12.]]\n"
          ]
        }
      ]
    },
    {
      "cell_type": "code",
      "source": [
        "print(t.ndim) #차원을 출력. 1차원은 벡터, 2차원은 행렬, 3차원은 3차원 텐서\n",
        "print(t.shape) # 크기를 출력 4X3이라는 뜻."
      ],
      "metadata": {
        "colab": {
          "base_uri": "https://localhost:8080/"
        },
        "id": "3NnEd2lofJTX",
        "outputId": "50fc01a7-e610-403c-b295-73cbd9cee86b"
      },
      "execution_count": 25,
      "outputs": [
        {
          "output_type": "stream",
          "name": "stdout",
          "text": [
            "2\n",
            "(4, 3)\n"
          ]
        }
      ]
    },
    {
      "cell_type": "code",
      "source": [
        "import torch"
      ],
      "metadata": {
        "id": "aTkKl7GUfVqI"
      },
      "execution_count": 27,
      "outputs": []
    },
    {
      "cell_type": "code",
      "source": [
        "t  = torch.FloatTensor([0., 1., 2., 3., 4., 5., 6.])\n",
        "print(t)"
      ],
      "metadata": {
        "colab": {
          "base_uri": "https://localhost:8080/"
        },
        "id": "VqtjxSJJfjoe",
        "outputId": "fde3f0a6-e0fb-4ed9-d4a3-d355969d0b8e"
      },
      "execution_count": 32,
      "outputs": [
        {
          "output_type": "stream",
          "name": "stdout",
          "text": [
            "tensor([0., 1., 2., 3., 4., 5., 6.])\n"
          ]
        }
      ]
    },
    {
      "cell_type": "code",
      "source": [
        "print(t.dim()) #차원\n",
        "print(t.shape) #크기\n",
        "print(t.size()) #크기"
      ],
      "metadata": {
        "colab": {
          "base_uri": "https://localhost:8080/"
        },
        "id": "1s1oamkVf_wo",
        "outputId": "f4842d90-3b08-48e4-c0a2-dde73d69d095"
      },
      "execution_count": 37,
      "outputs": [
        {
          "output_type": "stream",
          "name": "stdout",
          "text": [
            "1\n",
            "torch.Size([7])\n",
            "torch.Size([7])\n"
          ]
        }
      ]
    },
    {
      "cell_type": "code",
      "source": [
        "print(t[0], t[1], t[-1])\n",
        "print(t[2:5], t[4:-1])"
      ],
      "metadata": {
        "colab": {
          "base_uri": "https://localhost:8080/"
        },
        "id": "hyRaTsFygHih",
        "outputId": "d00c5cbe-95d4-4f16-cb3e-ae1b4a68527c"
      },
      "execution_count": 42,
      "outputs": [
        {
          "output_type": "stream",
          "name": "stdout",
          "text": [
            "tensor(0.) tensor(1.) tensor(6.)\n",
            "tensor([2., 3., 4.]) tensor([4., 5.])\n"
          ]
        }
      ]
    },
    {
      "cell_type": "code",
      "source": [
        "t = torch.FloatTensor([[1., 2., 3.],\n",
        "                       [4., 5., 6.],\n",
        "                       [7., 8., 9.],\n",
        "                       [10.,11.,12.]])"
      ],
      "metadata": {
        "id": "XI7EI7bXgfWt"
      },
      "execution_count": 45,
      "outputs": []
    },
    {
      "cell_type": "code",
      "source": [
        "print(t.dim()) #차원\n",
        "print(t.size()) #크기"
      ],
      "metadata": {
        "colab": {
          "base_uri": "https://localhost:8080/"
        },
        "id": "iVmwTzkMhOef",
        "outputId": "7c90aa45-bdae-44bd-94e4-502d0021ada9"
      },
      "execution_count": 50,
      "outputs": [
        {
          "output_type": "stream",
          "name": "stdout",
          "text": [
            "2\n",
            "torch.Size([4, 3])\n"
          ]
        }
      ]
    },
    {
      "cell_type": "code",
      "source": [
        "t[2 , :]\n",
        "t[:, 1]"
      ],
      "metadata": {
        "colab": {
          "base_uri": "https://localhost:8080/"
        },
        "id": "i5aakpmghVUC",
        "outputId": "b79287e2-0857-408e-ca4d-9feda61a6e2a"
      },
      "execution_count": 60,
      "outputs": [
        {
          "output_type": "execute_result",
          "data": {
            "text/plain": [
              "tensor([ 2.,  5.,  8., 11.])"
            ]
          },
          "metadata": {},
          "execution_count": 60
        }
      ]
    },
    {
      "cell_type": "code",
      "source": [
        " m1  = torch.FloatTensor( [ [3,2] ] )\n",
        " m2  = torch.FloatTensor( [ [2,2 ] ] )\n",
        "print(m1+m2) "
      ],
      "metadata": {
        "colab": {
          "base_uri": "https://localhost:8080/"
        },
        "id": "wpJkpoNKp-Oa",
        "outputId": "711e4605-d125-47c1-be4b-dbc5a7aa2ed4"
      },
      "execution_count": 63,
      "outputs": [
        {
          "output_type": "stream",
          "name": "stdout",
          "text": [
            "tensor([[5., 4.]])\n"
          ]
        }
      ]
    },
    {
      "cell_type": "code",
      "source": [
        "m1 = torch.FloatTensor( [ [ 1, 2 ] ] )\n",
        "m2 = torch.FloatTensor([3])\n",
        "print(m1+m2)"
      ],
      "metadata": {
        "colab": {
          "base_uri": "https://localhost:8080/"
        },
        "id": "EsQWvZ9ouVeF",
        "outputId": "5a03ad6d-7ef3-400b-fd2a-9d376aeabe9c"
      },
      "execution_count": 66,
      "outputs": [
        {
          "output_type": "stream",
          "name": "stdout",
          "text": [
            "tensor([[4., 5.]])\n"
          ]
        }
      ]
    },
    {
      "cell_type": "code",
      "source": [
        "m1 = torch.FloatTensor([ [1,2],[3,4] ])\n",
        "m2 = torch.FloatTensor([[2],[1]])\n",
        "print(m1.shape) # 2X2\n",
        "print(m2.shape) # 2X1\n",
        "m1.matmul(m2) #  m1xm2"
      ],
      "metadata": {
        "colab": {
          "base_uri": "https://localhost:8080/"
        },
        "id": "0NjS85-puZbm",
        "outputId": "9b69e7ce-b2bc-467b-af18-bf01d110d6fc"
      },
      "execution_count": 73,
      "outputs": [
        {
          "output_type": "stream",
          "name": "stdout",
          "text": [
            "torch.Size([2, 2])\n",
            "torch.Size([2, 1])\n"
          ]
        },
        {
          "output_type": "execute_result",
          "data": {
            "text/plain": [
              "tensor([[ 4.],\n",
              "        [10.]])"
            ]
          },
          "metadata": {},
          "execution_count": 73
        }
      ]
    },
    {
      "cell_type": "code",
      "source": [
        "print(m1*m2) #행렬곱과 곱셈(element-wise)에는 차이가 있다. "
      ],
      "metadata": {
        "colab": {
          "base_uri": "https://localhost:8080/"
        },
        "id": "APC9DBdrvR9E",
        "outputId": "c6198cff-9062-4e23-ee4e-8c569f0e98ac"
      },
      "execution_count": 74,
      "outputs": [
        {
          "output_type": "stream",
          "name": "stdout",
          "text": [
            "tensor([[2., 4.],\n",
            "        [3., 4.]])\n"
          ]
        }
      ]
    },
    {
      "cell_type": "code",
      "source": [
        "t =torch.FloatTensor([1,2])\n",
        "t.mean()\n",
        "t.var()"
      ],
      "metadata": {
        "colab": {
          "base_uri": "https://localhost:8080/"
        },
        "id": "no097bqfuZFu",
        "outputId": "6e1a82b6-f5c6-4558-e4b2-7aa021d7a4a3"
      },
      "execution_count": 79,
      "outputs": [
        {
          "output_type": "execute_result",
          "data": {
            "text/plain": [
              "tensor(0.5000)"
            ]
          },
          "metadata": {},
          "execution_count": 79
        }
      ]
    },
    {
      "cell_type": "code",
      "source": [
        "t = torch.FloatTensor([ [1., 2. ],[3., 4.] ])\n",
        "t.mean()\n",
        "t.mean(dim=0) #0차원 기준 즉 행으로 평균\n",
        "t.mean(dim=1) #열로 평균"
      ],
      "metadata": {
        "colab": {
          "base_uri": "https://localhost:8080/"
        },
        "id": "z3UCFqMuv6dI",
        "outputId": "b7a4f3b2-ab4e-4fe0-e75a-1b9efcee260f"
      },
      "execution_count": 84,
      "outputs": [
        {
          "output_type": "execute_result",
          "data": {
            "text/plain": [
              "tensor([1.5000, 3.5000])"
            ]
          },
          "metadata": {},
          "execution_count": 84
        }
      ]
    },
    {
      "cell_type": "code",
      "source": [
        "tt = torch.FloatTensor([ [1., 2. ],[3., 4.] ])\n",
        "tt.max()\n",
        "tt.max(dim=0) #첫번째 차원을 제거한다는 의미 (2,2) 텐서에서 (1,2)가 된다. -> 따라서 행기준 최댓값과 그에 해당하는 인덱스를 출력한다. "
      ],
      "metadata": {
        "colab": {
          "base_uri": "https://localhost:8080/"
        },
        "id": "gVZp1FJSwRJe",
        "outputId": "916a8b1d-f292-4e81-e2f1-f285c582cc5c"
      },
      "execution_count": 87,
      "outputs": [
        {
          "output_type": "execute_result",
          "data": {
            "text/plain": [
              "torch.return_types.max(\n",
              "values=tensor([3., 4.]),\n",
              "indices=tensor([1, 1]))"
            ]
          },
          "metadata": {},
          "execution_count": 87
        }
      ]
    },
    {
      "cell_type": "markdown",
      "source": [
        "데이터사이언스 분야에서 3차원 이상의 텐서는 다차원 행렬, 배열로 간주할 수 있음. 그리고 주로 3차원 이상을 텐서라고 하지만 벡터를 1차원 텐서라고 표현하기도 함"
      ],
      "metadata": {
        "id": "Wq_McYuXygv-"
      }
    },
    {
      "cell_type": "markdown",
      "source": [
        "훈련 데이터 하나의 크기가 256이라고 한다면, [2,3,6,...., ]의 길이가 256이라고 생각하면 됨. \n",
        "\n",
        "훈련데이터 한개 = 벡터의 차원 = 256  \n",
        "\n",
        "이런 훈련데이터가 3000개 있다면 전체 훈련데이터의 크기는 3000x256 이 되고, 이는 2차원 텐서임. \n",
        "\n",
        "컴퓨터가 이를 1개씩 처리할 수 도있겠지만 시간이 오래걸리고 효율이 낮음. 그래서 보통 덩어리로 처리함. 3000개 중 64개씩 꺼내 처리한다고 하면 이때 batch-size가 64인 것. 그리고 이 때 컴퓨터가 한 번에 처리하는 2차원 텐서의 크기는 64x256\n",
        "\n",
        "텐서의 표기는 (2,3) 과 2x3은 같은 것. 주의할 점은 (2, )은 1x2라는 것.\n",
        "\n"
      ],
      "metadata": {
        "id": "D70GT05eyumn"
      }
    }
  ]
}