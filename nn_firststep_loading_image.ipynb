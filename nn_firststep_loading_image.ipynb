{
  "nbformat": 4,
  "nbformat_minor": 0,
  "metadata": {
    "colab": {
      "provenance": [],
      "authorship_tag": "ABX9TyPRRqJpoLIZEY5Ipp/7raGB",
      "include_colab_link": true
    },
    "kernelspec": {
      "name": "python3",
      "display_name": "Python 3"
    },
    "language_info": {
      "name": "python"
    }
  },
  "cells": [
    {
      "cell_type": "markdown",
      "metadata": {
        "id": "view-in-github",
        "colab_type": "text"
      },
      "source": [
        "<a href=\"https://colab.research.google.com/github/kimgoinghard/study-machine-learning/blob/main/nn_firststep_loading_image.ipynb\" target=\"_parent\"><img src=\"https://colab.research.google.com/assets/colab-badge.svg\" alt=\"Open In Colab\"/></a>"
      ]
    },
    {
      "cell_type": "code",
      "execution_count": null,
      "metadata": {
        "id": "W_IMhHlm_u7N"
      },
      "outputs": [],
      "source": [
        "import scipy.misc\n",
        "im_array = scipy.misc.imread(image_file_name, flatten=True)\n",
        "#scipy.misc.imread() : png나 jpg 같은 이미지 파일로부터 데이터를 읽는다. flatten 매개변수 값은 이미지를 실수의 배열로 변환해준다. 색상을 가지고 있다면 회색스케일로 변경해준다.\n",
        "img_data = 255.0 - im_arrray.reshape(28,28)\n",
        "# 255에서 빼주는 과정은 색반전을 의미한다. 0은 검정을 255은 흰색을 의미한다. MNIST 파일 형식과 같게 맞추어 주는 것이다.\n",
        "img_data = (img_data / 255.0 * 0.99) + 0.01\n",
        "# 데이터 범위 수정해주는 식"
      ]
    }
  ]
}